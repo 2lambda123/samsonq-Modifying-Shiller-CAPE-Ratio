{
 "cells": [
  {
   "cell_type": "code",
   "execution_count": 1,
   "metadata": {
    "colab": {
     "base_uri": "https://localhost:8080/"
    },
    "executionInfo": {
     "elapsed": 19387,
     "status": "ok",
     "timestamp": 1638318837471,
     "user": {
      "displayName": "wang zi yan",
      "photoUrl": "https://lh3.googleusercontent.com/a/default-user=s64",
      "userId": "14380685193038015432"
     },
     "user_tz": 300
    },
    "id": "j75xY7Wh1uEY",
    "outputId": "36956245-560c-4253-e9d6-4762b31f3985"
   },
   "outputs": [
    {
     "name": "stderr",
     "output_type": "stream",
     "text": [
      "/usr/local/lib/python3.7/dist-packages/statsmodels/tools/_testing.py:19: FutureWarning: pandas.util.testing is deprecated. Use the functions in the public API at pandas.testing instead.\n",
      "  import pandas.util.testing as tm\n"
     ]
    },
    {
     "name": "stdout",
     "output_type": "stream",
     "text": [
      "Mounted at /content/drive\n"
     ]
    }
   ],
   "source": [
    "import pandas as pd\n",
    "import numpy as np\n",
    "import os\n",
    "import copy\n",
    "import statsmodels.api as sm\n",
    "from google.colab import drive\n",
    "import matplotlib.pyplot as plt\n",
    "import matplotlib.ticker as ticker\n",
    "from scipy.stats.mstats import winsorize\n",
    "from scipy import stats\n",
    "import seaborn as sns\n",
    "import matplotlib as mpl \n",
    "mpl.style.use(\"seaborn\")\n",
    "from sklearn.preprocessing import StandardScaler\n",
    "drive.mount('/content/drive')"
   ]
  },
  {
   "cell_type": "code",
   "execution_count": 2,
   "metadata": {
    "colab": {
     "base_uri": "https://localhost:8080/",
     "height": 343
    },
    "executionInfo": {
     "elapsed": 1192,
     "status": "ok",
     "timestamp": 1638318838657,
     "user": {
      "displayName": "wang zi yan",
      "photoUrl": "https://lh3.googleusercontent.com/a/default-user=s64",
      "userId": "14380685193038015432"
     },
     "user_tz": 300
    },
    "id": "fZjHaPur1ycr",
    "outputId": "32ce324c-2e11-4ed1-ac03-b6278dd5e1bd"
   },
   "outputs": [
    {
     "data": {
      "text/html": [
       "<div>\n",
       "<style scoped>\n",
       "    .dataframe tbody tr th:only-of-type {\n",
       "        vertical-align: middle;\n",
       "    }\n",
       "\n",
       "    .dataframe tbody tr th {\n",
       "        vertical-align: top;\n",
       "    }\n",
       "\n",
       "    .dataframe thead th {\n",
       "        text-align: right;\n",
       "    }\n",
       "</style>\n",
       "<table border=\"1\" class=\"dataframe\">\n",
       "  <thead>\n",
       "    <tr style=\"text-align: right;\">\n",
       "      <th></th>\n",
       "      <th>Date</th>\n",
       "      <th>P</th>\n",
       "      <th>D</th>\n",
       "      <th>E</th>\n",
       "      <th>CPI</th>\n",
       "      <th>Fraction</th>\n",
       "      <th>Rate GS10</th>\n",
       "      <th>Price</th>\n",
       "      <th>Dividend</th>\n",
       "      <th>Price.1</th>\n",
       "      <th>Earnings</th>\n",
       "      <th>Earnings.1</th>\n",
       "      <th>CAPE</th>\n",
       "      <th>Unnamed: 13</th>\n",
       "      <th>TR CAPE</th>\n",
       "      <th>Unnamed: 15</th>\n",
       "      <th>Yield</th>\n",
       "      <th>Returns</th>\n",
       "      <th>Returns.1</th>\n",
       "      <th>Real Return</th>\n",
       "      <th>Real Return.1</th>\n",
       "      <th>Returns.2</th>\n",
       "    </tr>\n",
       "  </thead>\n",
       "  <tbody>\n",
       "    <tr>\n",
       "      <th>1805</th>\n",
       "      <td>2021.06</td>\n",
       "      <td>4238.49</td>\n",
       "      <td>57.865042</td>\n",
       "      <td>158.74</td>\n",
       "      <td>271.696</td>\n",
       "      <td>2021.458333</td>\n",
       "      <td>1.52</td>\n",
       "      <td>4258.878899</td>\n",
       "      <td>58.143403</td>\n",
       "      <td>2.708807e+06</td>\n",
       "      <td>159.503623</td>\n",
       "      <td>101450.284227</td>\n",
       "      <td>36.696312</td>\n",
       "      <td>NaN</td>\n",
       "      <td>40.148114</td>\n",
       "      <td>NaN</td>\n",
       "      <td>0.030762</td>\n",
       "      <td>1.019847</td>\n",
       "      <td>52.320805</td>\n",
       "      <td>NaN</td>\n",
       "      <td>NaN</td>\n",
       "      <td>NaN</td>\n",
       "    </tr>\n",
       "    <tr>\n",
       "      <th>1806</th>\n",
       "      <td>2021.07</td>\n",
       "      <td>4363.71</td>\n",
       "      <td>NaN</td>\n",
       "      <td>NaN</td>\n",
       "      <td>273.003</td>\n",
       "      <td>2021.541667</td>\n",
       "      <td>1.32</td>\n",
       "      <td>4363.712857</td>\n",
       "      <td>NaN</td>\n",
       "      <td>2.775485e+06</td>\n",
       "      <td>NaN</td>\n",
       "      <td>NaN</td>\n",
       "      <td>37.443491</td>\n",
       "      <td>NaN</td>\n",
       "      <td>40.891936</td>\n",
       "      <td>NaN</td>\n",
       "      <td>0.032617</td>\n",
       "      <td>1.004823</td>\n",
       "      <td>53.103769</td>\n",
       "      <td>NaN</td>\n",
       "      <td>NaN</td>\n",
       "      <td>NaN</td>\n",
       "    </tr>\n",
       "    <tr>\n",
       "      <th>1807</th>\n",
       "      <td>2021.08</td>\n",
       "      <td>4454.21</td>\n",
       "      <td>NaN</td>\n",
       "      <td>NaN</td>\n",
       "      <td>273.656</td>\n",
       "      <td>2021.625000</td>\n",
       "      <td>1.28</td>\n",
       "      <td>4443.569584</td>\n",
       "      <td>NaN</td>\n",
       "      <td>2.826277e+06</td>\n",
       "      <td>NaN</td>\n",
       "      <td>NaN</td>\n",
       "      <td>38.090426</td>\n",
       "      <td>NaN</td>\n",
       "      <td>41.567547</td>\n",
       "      <td>NaN</td>\n",
       "      <td>0.032526</td>\n",
       "      <td>1.000136</td>\n",
       "      <td>53.232483</td>\n",
       "      <td>NaN</td>\n",
       "      <td>NaN</td>\n",
       "      <td>NaN</td>\n",
       "    </tr>\n",
       "    <tr>\n",
       "      <th>1808</th>\n",
       "      <td>2021.09</td>\n",
       "      <td>4493.28</td>\n",
       "      <td>NaN</td>\n",
       "      <td>NaN</td>\n",
       "      <td>273.983</td>\n",
       "      <td>2021.708333</td>\n",
       "      <td>1.29</td>\n",
       "      <td>4477.204062</td>\n",
       "      <td>NaN</td>\n",
       "      <td>2.847670e+06</td>\n",
       "      <td>NaN</td>\n",
       "      <td>NaN</td>\n",
       "      <td>38.342280</td>\n",
       "      <td>NaN</td>\n",
       "      <td>41.811062</td>\n",
       "      <td>NaN</td>\n",
       "      <td>0.032220</td>\n",
       "      <td>NaN</td>\n",
       "      <td>53.176244</td>\n",
       "      <td>NaN</td>\n",
       "      <td>NaN</td>\n",
       "      <td>NaN</td>\n",
       "    </tr>\n",
       "    <tr>\n",
       "      <th>1809</th>\n",
       "      <td>NaN</td>\n",
       "      <td>Sept 2021 P is Sept 9 close</td>\n",
       "      <td>NaN</td>\n",
       "      <td>NaN</td>\n",
       "      <td>Aug/Sept 2021 CPI estimated</td>\n",
       "      <td>NaN</td>\n",
       "      <td>Sept 2021 GS10 is Sept 3rd value</td>\n",
       "      <td>NaN</td>\n",
       "      <td>NaN</td>\n",
       "      <td>NaN</td>\n",
       "      <td>NaN</td>\n",
       "      <td>NaN</td>\n",
       "      <td>NaN</td>\n",
       "      <td>NaN</td>\n",
       "      <td>NaN</td>\n",
       "      <td>NaN</td>\n",
       "      <td>NaN</td>\n",
       "      <td>NaN</td>\n",
       "      <td>NaN</td>\n",
       "      <td>NaN</td>\n",
       "      <td>NaN</td>\n",
       "      <td>NaN</td>\n",
       "    </tr>\n",
       "  </tbody>\n",
       "</table>\n",
       "</div>"
      ],
      "text/plain": [
       "         Date                            P  ...  Real Return.1  Returns.2\n",
       "1805  2021.06                      4238.49  ...            NaN        NaN\n",
       "1806  2021.07                      4363.71  ...            NaN        NaN\n",
       "1807  2021.08                      4454.21  ...            NaN        NaN\n",
       "1808  2021.09                      4493.28  ...            NaN        NaN\n",
       "1809      NaN  Sept 2021 P is Sept 9 close  ...            NaN        NaN\n",
       "\n",
       "[5 rows x 22 columns]"
      ]
     },
     "execution_count": 2,
     "metadata": {},
     "output_type": "execute_result"
    }
   ],
   "source": [
    "project_dir = os.getcwd() + \"/drive/MyDrive/15.451 - GIC Project\"\n",
    "data = pd.read_excel(os.path.join(project_dir, \"data/Copy of ie_data.xls\"), sheet_name=\"Data\", skiprows=7)\n",
    "data.tail()"
   ]
  },
  {
   "cell_type": "code",
   "execution_count": 3,
   "metadata": {
    "colab": {
     "base_uri": "https://localhost:8080/",
     "height": 221
    },
    "executionInfo": {
     "elapsed": 144,
     "status": "ok",
     "timestamp": 1638318853478,
     "user": {
      "displayName": "wang zi yan",
      "photoUrl": "https://lh3.googleusercontent.com/a/default-user=s64",
      "userId": "14380685193038015432"
     },
     "user_tz": 300
    },
    "id": "h20JHg33fu_F",
    "outputId": "9df41513-7c57-45c5-b8c4-9d911854e72c"
   },
   "outputs": [
    {
     "data": {
      "text/html": [
       "<div>\n",
       "<style scoped>\n",
       "    .dataframe tbody tr th:only-of-type {\n",
       "        vertical-align: middle;\n",
       "    }\n",
       "\n",
       "    .dataframe tbody tr th {\n",
       "        vertical-align: top;\n",
       "    }\n",
       "\n",
       "    .dataframe thead th {\n",
       "        text-align: right;\n",
       "    }\n",
       "</style>\n",
       "<table border=\"1\" class=\"dataframe\">\n",
       "  <thead>\n",
       "    <tr style=\"text-align: right;\">\n",
       "      <th></th>\n",
       "      <th>Date</th>\n",
       "      <th>P</th>\n",
       "      <th>D</th>\n",
       "      <th>E</th>\n",
       "      <th>CPI</th>\n",
       "      <th>Fraction</th>\n",
       "      <th>Rate GS10</th>\n",
       "      <th>Price</th>\n",
       "      <th>Dividend</th>\n",
       "      <th>Price.1</th>\n",
       "      <th>Earnings</th>\n",
       "      <th>Earnings.1</th>\n",
       "      <th>CAPE</th>\n",
       "      <th>Unnamed: 13</th>\n",
       "      <th>TR CAPE</th>\n",
       "      <th>Unnamed: 15</th>\n",
       "      <th>Yield</th>\n",
       "      <th>Returns</th>\n",
       "      <th>Returns.1</th>\n",
       "      <th>Real Return</th>\n",
       "      <th>Real Return.1</th>\n",
       "      <th>Returns.2</th>\n",
       "    </tr>\n",
       "  </thead>\n",
       "  <tbody>\n",
       "    <tr>\n",
       "      <th>1804</th>\n",
       "      <td>2021.05</td>\n",
       "      <td>4167.85</td>\n",
       "      <td>57.787824</td>\n",
       "      <td>148.56</td>\n",
       "      <td>269.195</td>\n",
       "      <td>2021.375000</td>\n",
       "      <td>1.62</td>\n",
       "      <td>4226.807396</td>\n",
       "      <td>58.605283</td>\n",
       "      <td>2.685353e+06</td>\n",
       "      <td>150.661512</td>\n",
       "      <td>95717.473520</td>\n",
       "      <td>36.552152</td>\n",
       "      <td>NaN</td>\n",
       "      <td>40.014713</td>\n",
       "      <td>NaN</td>\n",
       "      <td>0.028818</td>\n",
       "      <td>1.010550</td>\n",
       "      <td>52.255601</td>\n",
       "      <td>NaN</td>\n",
       "      <td>NaN</td>\n",
       "      <td>NaN</td>\n",
       "    </tr>\n",
       "    <tr>\n",
       "      <th>1805</th>\n",
       "      <td>2021.06</td>\n",
       "      <td>4238.49</td>\n",
       "      <td>57.865042</td>\n",
       "      <td>158.74</td>\n",
       "      <td>271.696</td>\n",
       "      <td>2021.458333</td>\n",
       "      <td>1.52</td>\n",
       "      <td>4258.878899</td>\n",
       "      <td>58.143403</td>\n",
       "      <td>2.708807e+06</td>\n",
       "      <td>159.503623</td>\n",
       "      <td>101450.284227</td>\n",
       "      <td>36.696312</td>\n",
       "      <td>NaN</td>\n",
       "      <td>40.148114</td>\n",
       "      <td>NaN</td>\n",
       "      <td>0.030762</td>\n",
       "      <td>1.019847</td>\n",
       "      <td>52.320805</td>\n",
       "      <td>NaN</td>\n",
       "      <td>NaN</td>\n",
       "      <td>NaN</td>\n",
       "    </tr>\n",
       "    <tr>\n",
       "      <th>1806</th>\n",
       "      <td>2021.07</td>\n",
       "      <td>4363.71</td>\n",
       "      <td>NaN</td>\n",
       "      <td>NaN</td>\n",
       "      <td>273.003</td>\n",
       "      <td>2021.541667</td>\n",
       "      <td>1.32</td>\n",
       "      <td>4363.712857</td>\n",
       "      <td>NaN</td>\n",
       "      <td>2.775485e+06</td>\n",
       "      <td>NaN</td>\n",
       "      <td>NaN</td>\n",
       "      <td>37.443491</td>\n",
       "      <td>NaN</td>\n",
       "      <td>40.891936</td>\n",
       "      <td>NaN</td>\n",
       "      <td>0.032617</td>\n",
       "      <td>1.004823</td>\n",
       "      <td>53.103769</td>\n",
       "      <td>NaN</td>\n",
       "      <td>NaN</td>\n",
       "      <td>NaN</td>\n",
       "    </tr>\n",
       "    <tr>\n",
       "      <th>1807</th>\n",
       "      <td>2021.08</td>\n",
       "      <td>4454.21</td>\n",
       "      <td>NaN</td>\n",
       "      <td>NaN</td>\n",
       "      <td>273.656</td>\n",
       "      <td>2021.625000</td>\n",
       "      <td>1.28</td>\n",
       "      <td>4443.569584</td>\n",
       "      <td>NaN</td>\n",
       "      <td>2.826277e+06</td>\n",
       "      <td>NaN</td>\n",
       "      <td>NaN</td>\n",
       "      <td>38.090426</td>\n",
       "      <td>NaN</td>\n",
       "      <td>41.567547</td>\n",
       "      <td>NaN</td>\n",
       "      <td>0.032526</td>\n",
       "      <td>1.000136</td>\n",
       "      <td>53.232483</td>\n",
       "      <td>NaN</td>\n",
       "      <td>NaN</td>\n",
       "      <td>NaN</td>\n",
       "    </tr>\n",
       "    <tr>\n",
       "      <th>1808</th>\n",
       "      <td>2021.09</td>\n",
       "      <td>4493.28</td>\n",
       "      <td>NaN</td>\n",
       "      <td>NaN</td>\n",
       "      <td>273.983</td>\n",
       "      <td>2021.708333</td>\n",
       "      <td>1.29</td>\n",
       "      <td>4477.204062</td>\n",
       "      <td>NaN</td>\n",
       "      <td>2.847670e+06</td>\n",
       "      <td>NaN</td>\n",
       "      <td>NaN</td>\n",
       "      <td>38.342280</td>\n",
       "      <td>NaN</td>\n",
       "      <td>41.811062</td>\n",
       "      <td>NaN</td>\n",
       "      <td>0.032220</td>\n",
       "      <td>NaN</td>\n",
       "      <td>53.176244</td>\n",
       "      <td>NaN</td>\n",
       "      <td>NaN</td>\n",
       "      <td>NaN</td>\n",
       "    </tr>\n",
       "  </tbody>\n",
       "</table>\n",
       "</div>"
      ],
      "text/plain": [
       "         Date        P          D  ...  Real Return Real Return.1  Returns.2\n",
       "1804  2021.05  4167.85  57.787824  ...          NaN           NaN        NaN\n",
       "1805  2021.06  4238.49  57.865042  ...          NaN           NaN        NaN\n",
       "1806  2021.07  4363.71        NaN  ...          NaN           NaN        NaN\n",
       "1807  2021.08  4454.21        NaN  ...          NaN           NaN        NaN\n",
       "1808  2021.09  4493.28        NaN  ...          NaN           NaN        NaN\n",
       "\n",
       "[5 rows x 22 columns]"
      ]
     },
     "execution_count": 3,
     "metadata": {},
     "output_type": "execute_result"
    }
   ],
   "source": [
    "# Drop last row\n",
    "data.drop(data.tail(1).index,inplace=True) \n",
    "data.tail()"
   ]
  },
  {
   "cell_type": "code",
   "execution_count": 4,
   "metadata": {
    "colab": {
     "base_uri": "https://localhost:8080/"
    },
    "executionInfo": {
     "elapsed": 168,
     "status": "ok",
     "timestamp": 1638318854771,
     "user": {
      "displayName": "wang zi yan",
      "photoUrl": "https://lh3.googleusercontent.com/a/default-user=s64",
      "userId": "14380685193038015432"
     },
     "user_tz": 300
    },
    "id": "9uys2zElZzR2",
    "outputId": "4b5e591e-f3d0-4c13-e7c7-d9603c446388"
   },
   "outputs": [
    {
     "name": "stdout",
     "output_type": "stream",
     "text": [
      "Drive already mounted at /content/drive; to attempt to forcibly remount, call drive.mount(\"/content/drive\", force_remount=True).\n"
     ]
    }
   ],
   "source": [
    "from google.colab import drive\n",
    "drive.mount('/content/drive')"
   ]
  },
  {
   "cell_type": "code",
   "execution_count": 5,
   "metadata": {
    "executionInfo": {
     "elapsed": 549,
     "status": "ok",
     "timestamp": 1638318855957,
     "user": {
      "displayName": "wang zi yan",
      "photoUrl": "https://lh3.googleusercontent.com/a/default-user=s64",
      "userId": "14380685193038015432"
     },
     "user_tz": 300
    },
    "id": "YAPj248qZSPK"
   },
   "outputs": [],
   "source": [
    "# Calculate 2 and 5 Years Annualized Expected Real Equity Return\n",
    "n, p = data.shape\n",
    "return_2 = []\n",
    "return_5 = []\n",
    "for i, row in data.iterrows():\n",
    "\n",
    "    if i+24 < n:\n",
    "        return_2.append((data.loc[i+24, \"Price.1\"]/data.loc[i, \"Price.1\"])**(1/2)-1)\n",
    "    else:\n",
    "        return_2.append(np.nan)\n",
    "    \n",
    "    if i+60 < n:\n",
    "        return_5.append((data.loc[i+60, \"Price.1\"]/data.loc[i, \"Price.1\"])**(1/5)-1)\n",
    "    else:\n",
    "        return_5.append(np.nan)\n",
    "\n",
    "data[\"Real_Return_2\"] = return_2\n",
    "data[\"Real_Return_5\"] = return_5\n",
    "\n",
    "# Calculate 2 and 5 Years Annualized Real Yield of Long-term Bond\n",
    "yield_2 = []\n",
    "yield_5 = []\n",
    "for i, row in data.iterrows():\n",
    "\n",
    "    if i-24 >= 0:\n",
    "        yield_2.append(data.loc[i, \"Rate GS10\"]/100-((data.loc[i, \"CPI\"]/data.loc[i-24, \"CPI\"])**(1/2)-1))\n",
    "    else:\n",
    "        yield_2.append(np.nan)\n",
    "    \n",
    "    if i-60 >= 0:\n",
    "        yield_5.append(data.loc[i, \"Rate GS10\"]/100-((data.loc[i, \"CPI\"]/data.loc[i-60, \"CPI\"])**(1/5)-1))\n",
    "    else:\n",
    "        yield_5.append(np.nan)\n",
    "\n",
    "data[\"Real_Yield_2\"] = yield_2\n",
    "data[\"Real_Yield_5\"] = yield_5"
   ]
  },
  {
   "cell_type": "code",
   "execution_count": 6,
   "metadata": {
    "colab": {
     "base_uri": "https://localhost:8080/",
     "height": 439
    },
    "executionInfo": {
     "elapsed": 192,
     "status": "ok",
     "timestamp": 1638318856147,
     "user": {
      "displayName": "wang zi yan",
      "photoUrl": "https://lh3.googleusercontent.com/a/default-user=s64",
      "userId": "14380685193038015432"
     },
     "user_tz": 300
    },
    "id": "mvACMu3l3FIL",
    "outputId": "5493faa3-eb6f-4f70-c721-db90fc5b66f1"
   },
   "outputs": [
    {
     "data": {
      "text/html": [
       "<div>\n",
       "<style scoped>\n",
       "    .dataframe tbody tr th:only-of-type {\n",
       "        vertical-align: middle;\n",
       "    }\n",
       "\n",
       "    .dataframe tbody tr th {\n",
       "        vertical-align: top;\n",
       "    }\n",
       "\n",
       "    .dataframe thead th {\n",
       "        text-align: right;\n",
       "    }\n",
       "</style>\n",
       "<table border=\"1\" class=\"dataframe\">\n",
       "  <thead>\n",
       "    <tr style=\"text-align: right;\">\n",
       "      <th></th>\n",
       "      <th>Date</th>\n",
       "      <th>10Y_Nominal_Yield</th>\n",
       "      <th>CAPE</th>\n",
       "      <th>Excess_CAPE_Yield</th>\n",
       "      <th>Real_Returns_Equity_10Y</th>\n",
       "      <th>Real_Returns_Bond_10Y</th>\n",
       "      <th>Excess_Real_Returns_Equity_10Y</th>\n",
       "      <th>Real_Returns_Equity_2Y</th>\n",
       "      <th>Real_Returns_Equity_5Y</th>\n",
       "      <th>Real_Yield_2Y</th>\n",
       "      <th>Real_Yield_5Y</th>\n",
       "    </tr>\n",
       "  </thead>\n",
       "  <tbody>\n",
       "    <tr>\n",
       "      <th>120</th>\n",
       "      <td>1881.01</td>\n",
       "      <td>3.7</td>\n",
       "      <td>18.473952</td>\n",
       "      <td>-0.010489</td>\n",
       "      <td>0.045353</td>\n",
       "      <td>0.056468</td>\n",
       "      <td>-0.011115</td>\n",
       "      <td>-0.010091</td>\n",
       "      <td>0.056730</td>\n",
       "      <td>-0.029738</td>\n",
       "      <td>0.064821</td>\n",
       "    </tr>\n",
       "    <tr>\n",
       "      <th>121</th>\n",
       "      <td>1881.02</td>\n",
       "      <td>3.69333</td>\n",
       "      <td>18.147258</td>\n",
       "      <td>-0.011393</td>\n",
       "      <td>0.046774</td>\n",
       "      <td>0.056199</td>\n",
       "      <td>-0.009425</td>\n",
       "      <td>-0.018835</td>\n",
       "      <td>0.063602</td>\n",
       "      <td>-0.029070</td>\n",
       "      <td>0.062798</td>\n",
       "    </tr>\n",
       "    <tr>\n",
       "      <th>122</th>\n",
       "      <td>1881.03</td>\n",
       "      <td>3.68667</td>\n",
       "      <td>18.270119</td>\n",
       "      <td>-0.013123</td>\n",
       "      <td>0.042423</td>\n",
       "      <td>0.054885</td>\n",
       "      <td>-0.012462</td>\n",
       "      <td>-0.013208</td>\n",
       "      <td>0.059318</td>\n",
       "      <td>-0.035246</td>\n",
       "      <td>0.062731</td>\n",
       "    </tr>\n",
       "    <tr>\n",
       "      <th>123</th>\n",
       "      <td>1881.04</td>\n",
       "      <td>3.68</td>\n",
       "      <td>17.950108</td>\n",
       "      <td>-0.007504</td>\n",
       "      <td>0.045971</td>\n",
       "      <td>0.054635</td>\n",
       "      <td>-0.008665</td>\n",
       "      <td>0.008850</td>\n",
       "      <td>0.061809</td>\n",
       "      <td>-0.046904</td>\n",
       "      <td>0.059005</td>\n",
       "    </tr>\n",
       "    <tr>\n",
       "      <th>124</th>\n",
       "      <td>1881.05</td>\n",
       "      <td>3.67333</td>\n",
       "      <td>18.869719</td>\n",
       "      <td>-0.008881</td>\n",
       "      <td>0.041157</td>\n",
       "      <td>0.054786</td>\n",
       "      <td>-0.013628</td>\n",
       "      <td>-0.021196</td>\n",
       "      <td>0.051492</td>\n",
       "      <td>-0.041596</td>\n",
       "      <td>0.053821</td>\n",
       "    </tr>\n",
       "    <tr>\n",
       "      <th>...</th>\n",
       "      <td>...</td>\n",
       "      <td>...</td>\n",
       "      <td>...</td>\n",
       "      <td>...</td>\n",
       "      <td>...</td>\n",
       "      <td>...</td>\n",
       "      <td>...</td>\n",
       "      <td>...</td>\n",
       "      <td>...</td>\n",
       "      <td>...</td>\n",
       "      <td>...</td>\n",
       "    </tr>\n",
       "    <tr>\n",
       "      <th>1683</th>\n",
       "      <td>2011.04</td>\n",
       "      <td>3.46</td>\n",
       "      <td>23.143929</td>\n",
       "      <td>0.032908</td>\n",
       "      <td>0.122922</td>\n",
       "      <td>0.019353</td>\n",
       "      <td>0.103569</td>\n",
       "      <td>0.090403</td>\n",
       "      <td>0.101572</td>\n",
       "      <td>0.007610</td>\n",
       "      <td>0.012378</td>\n",
       "    </tr>\n",
       "    <tr>\n",
       "      <th>1684</th>\n",
       "      <td>2011.05</td>\n",
       "      <td>3.17</td>\n",
       "      <td>23.059492</td>\n",
       "      <td>0.035985</td>\n",
       "      <td>0.122663</td>\n",
       "      <td>0.016578</td>\n",
       "      <td>0.106085</td>\n",
       "      <td>0.113027</td>\n",
       "      <td>0.099596</td>\n",
       "      <td>0.003781</td>\n",
       "      <td>0.009531</td>\n",
       "    </tr>\n",
       "    <tr>\n",
       "      <th>1685</th>\n",
       "      <td>2011.06</td>\n",
       "      <td>3</td>\n",
       "      <td>22.100831</td>\n",
       "      <td>0.039284</td>\n",
       "      <td>0.127718</td>\n",
       "      <td>0.014863</td>\n",
       "      <td>0.112854</td>\n",
       "      <td>0.125678</td>\n",
       "      <td>0.109218</td>\n",
       "      <td>0.007016</td>\n",
       "      <td>0.008453</td>\n",
       "    </tr>\n",
       "    <tr>\n",
       "      <th>1686</th>\n",
       "      <td>2011.07</td>\n",
       "      <td>3</td>\n",
       "      <td>22.610982</td>\n",
       "      <td>0.038642</td>\n",
       "      <td>0.127113</td>\n",
       "      <td>0.016208</td>\n",
       "      <td>0.110905</td>\n",
       "      <td>0.126789</td>\n",
       "      <td>0.110192</td>\n",
       "      <td>0.005750</td>\n",
       "      <td>0.008875</td>\n",
       "    </tr>\n",
       "    <tr>\n",
       "      <th>1687</th>\n",
       "      <td>2011.08</td>\n",
       "      <td>2.3</td>\n",
       "      <td>20.049853</td>\n",
       "      <td>0.051573</td>\n",
       "      <td>0.141940</td>\n",
       "      <td>0.010397</td>\n",
       "      <td>0.131543</td>\n",
       "      <td>0.192819</td>\n",
       "      <td>0.137971</td>\n",
       "      <td>-0.001513</td>\n",
       "      <td>0.001714</td>\n",
       "    </tr>\n",
       "  </tbody>\n",
       "</table>\n",
       "<p>1568 rows × 11 columns</p>\n",
       "</div>"
      ],
      "text/plain": [
       "         Date 10Y_Nominal_Yield  ...  Real_Yield_2Y  Real_Yield_5Y\n",
       "120   1881.01               3.7  ...      -0.029738       0.064821\n",
       "121   1881.02           3.69333  ...      -0.029070       0.062798\n",
       "122   1881.03           3.68667  ...      -0.035246       0.062731\n",
       "123   1881.04              3.68  ...      -0.046904       0.059005\n",
       "124   1881.05           3.67333  ...      -0.041596       0.053821\n",
       "...       ...               ...  ...            ...            ...\n",
       "1683  2011.04              3.46  ...       0.007610       0.012378\n",
       "1684  2011.05              3.17  ...       0.003781       0.009531\n",
       "1685  2011.06                 3  ...       0.007016       0.008453\n",
       "1686  2011.07                 3  ...       0.005750       0.008875\n",
       "1687  2011.08               2.3  ...      -0.001513       0.001714\n",
       "\n",
       "[1568 rows x 11 columns]"
      ]
     },
     "execution_count": 6,
     "metadata": {},
     "output_type": "execute_result"
    }
   ],
   "source": [
    "# Select varialbles of interest and sample period\n",
    "df = data[[\"Date\", \"Rate GS10\", \"CAPE\", \"Yield\", \"Real Return\", \"Real Return.1\", \n",
    "           \"Returns.2\", \"Real_Return_2\", \"Real_Return_5\", \"Real_Yield_2\", \n",
    "           \"Real_Yield_5\"]].copy()\n",
    "df.rename(columns={\"Rate GS10\": \"10Y_Nominal_Yield\", \"Yield\": \"Excess_CAPE_Yield\", \"Real Return\": \"Real_Returns_Equity_10Y\", \n",
    "                   \"Real Return.1\": \"Real_Returns_Bond_10Y\", \"Returns.2\": \"Excess_Real_Returns_Equity_10Y\", \n",
    "                   \"Real_Return_2\": \"Real_Returns_Equity_2Y\", \"Real_Return_5\": \"Real_Returns_Equity_5Y\", \n",
    "                   \"Real_Yield_2\": \"Real_Yield_2Y\", \"Real_Yield_5\": \"Real_Yield_5Y\"}, inplace=True)\n",
    "# Drop NAs, sample period: 1881.01-2011.08\n",
    "df_clean = df.dropna()\n",
    "df_clean"
   ]
  },
  {
   "cell_type": "code",
   "execution_count": 7,
   "metadata": {
    "colab": {
     "base_uri": "https://localhost:8080/",
     "height": 317
    },
    "executionInfo": {
     "elapsed": 195,
     "status": "ok",
     "timestamp": 1638318856920,
     "user": {
      "displayName": "wang zi yan",
      "photoUrl": "https://lh3.googleusercontent.com/a/default-user=s64",
      "userId": "14380685193038015432"
     },
     "user_tz": 300
    },
    "id": "2fZUAUbn3jhZ",
    "outputId": "5a9ad216-573d-4396-f6c6-edaefb3e430e"
   },
   "outputs": [
    {
     "data": {
      "text/html": [
       "<div>\n",
       "<style scoped>\n",
       "    .dataframe tbody tr th:only-of-type {\n",
       "        vertical-align: middle;\n",
       "    }\n",
       "\n",
       "    .dataframe tbody tr th {\n",
       "        vertical-align: top;\n",
       "    }\n",
       "\n",
       "    .dataframe thead th {\n",
       "        text-align: right;\n",
       "    }\n",
       "</style>\n",
       "<table border=\"1\" class=\"dataframe\">\n",
       "  <thead>\n",
       "    <tr style=\"text-align: right;\">\n",
       "      <th></th>\n",
       "      <th>Date</th>\n",
       "      <th>CAPE</th>\n",
       "      <th>Excess_CAPE_Yield</th>\n",
       "      <th>Real_Returns_Equity_10Y</th>\n",
       "      <th>Real_Returns_Bond_10Y</th>\n",
       "      <th>Excess_Real_Returns_Equity_10Y</th>\n",
       "      <th>Real_Returns_Equity_2Y</th>\n",
       "      <th>Real_Returns_Equity_5Y</th>\n",
       "      <th>Real_Yield_2Y</th>\n",
       "      <th>Real_Yield_5Y</th>\n",
       "      <th>Log_CAPE</th>\n",
       "      <th>CAPE_Inverse</th>\n",
       "      <th>Real_Yield_10Y</th>\n",
       "    </tr>\n",
       "  </thead>\n",
       "  <tbody>\n",
       "    <tr>\n",
       "      <th>count</th>\n",
       "      <td>1809.000000</td>\n",
       "      <td>1689.000000</td>\n",
       "      <td>1689.000000</td>\n",
       "      <td>1688.000000</td>\n",
       "      <td>1688.000000</td>\n",
       "      <td>1688.000000</td>\n",
       "      <td>1785.000000</td>\n",
       "      <td>1749.000000</td>\n",
       "      <td>1785.000000</td>\n",
       "      <td>1749.000000</td>\n",
       "      <td>1689.000000</td>\n",
       "      <td>1689.000000</td>\n",
       "      <td>1689.000000</td>\n",
       "    </tr>\n",
       "    <tr>\n",
       "      <th>mean</th>\n",
       "      <td>1945.940547</td>\n",
       "      <td>17.205097</td>\n",
       "      <td>0.046787</td>\n",
       "      <td>0.068713</td>\n",
       "      <td>0.025676</td>\n",
       "      <td>0.043037</td>\n",
       "      <td>0.077416</td>\n",
       "      <td>0.071505</td>\n",
       "      <td>0.023236</td>\n",
       "      <td>0.023088</td>\n",
       "      <td>2.763301</td>\n",
       "      <td>0.068786</td>\n",
       "      <td>0.021999</td>\n",
       "    </tr>\n",
       "    <tr>\n",
       "      <th>std</th>\n",
       "      <td>43.529812</td>\n",
       "      <td>7.038601</td>\n",
       "      <td>0.044269</td>\n",
       "      <td>0.051265</td>\n",
       "      <td>0.035520</td>\n",
       "      <td>0.048857</td>\n",
       "      <td>0.131341</td>\n",
       "      <td>0.078810</td>\n",
       "      <td>0.045758</td>\n",
       "      <td>0.032992</td>\n",
       "      <td>0.410662</td>\n",
       "      <td>0.030577</td>\n",
       "      <td>0.024770</td>\n",
       "    </tr>\n",
       "    <tr>\n",
       "      <th>min</th>\n",
       "      <td>1871.010000</td>\n",
       "      <td>4.784241</td>\n",
       "      <td>-0.025777</td>\n",
       "      <td>-0.059239</td>\n",
       "      <td>-0.054197</td>\n",
       "      <td>-0.099817</td>\n",
       "      <td>-0.436454</td>\n",
       "      <td>-0.132330</td>\n",
       "      <td>-0.147592</td>\n",
       "      <td>-0.106352</td>\n",
       "      <td>1.565327</td>\n",
       "      <td>0.022625</td>\n",
       "      <td>-0.036078</td>\n",
       "    </tr>\n",
       "    <tr>\n",
       "      <th>25%</th>\n",
       "      <td>1908.090000</td>\n",
       "      <td>11.895760</td>\n",
       "      <td>0.015711</td>\n",
       "      <td>0.037107</td>\n",
       "      <td>-0.001465</td>\n",
       "      <td>0.012844</td>\n",
       "      <td>0.001933</td>\n",
       "      <td>0.019214</td>\n",
       "      <td>0.004824</td>\n",
       "      <td>0.007119</td>\n",
       "      <td>2.476182</td>\n",
       "      <td>0.047817</td>\n",
       "      <td>0.006579</td>\n",
       "    </tr>\n",
       "    <tr>\n",
       "      <th>50%</th>\n",
       "      <td>1946.050000</td>\n",
       "      <td>16.378480</td>\n",
       "      <td>0.034904</td>\n",
       "      <td>0.068403</td>\n",
       "      <td>0.022427</td>\n",
       "      <td>0.036029</td>\n",
       "      <td>0.074828</td>\n",
       "      <td>0.072200</td>\n",
       "      <td>0.023176</td>\n",
       "      <td>0.022571</td>\n",
       "      <td>2.795968</td>\n",
       "      <td>0.061056</td>\n",
       "      <td>0.023181</td>\n",
       "    </tr>\n",
       "    <tr>\n",
       "      <th>75%</th>\n",
       "      <td>1984.010000</td>\n",
       "      <td>20.913092</td>\n",
       "      <td>0.066782</td>\n",
       "      <td>0.105631</td>\n",
       "      <td>0.056468</td>\n",
       "      <td>0.065182</td>\n",
       "      <td>0.160573</td>\n",
       "      <td>0.121356</td>\n",
       "      <td>0.040884</td>\n",
       "      <td>0.039101</td>\n",
       "      <td>3.040375</td>\n",
       "      <td>0.084064</td>\n",
       "      <td>0.038826</td>\n",
       "    </tr>\n",
       "    <tr>\n",
       "      <th>max</th>\n",
       "      <td>2021.090000</td>\n",
       "      <td>44.197940</td>\n",
       "      <td>0.235340</td>\n",
       "      <td>0.199585</td>\n",
       "      <td>0.109818</td>\n",
       "      <td>0.195984</td>\n",
       "      <td>0.542323</td>\n",
       "      <td>0.333465</td>\n",
       "      <td>0.172417</td>\n",
       "      <td>0.122252</td>\n",
       "      <td>3.788678</td>\n",
       "      <td>0.209020</td>\n",
       "      <td>0.076360</td>\n",
       "    </tr>\n",
       "  </tbody>\n",
       "</table>\n",
       "</div>"
      ],
      "text/plain": [
       "              Date         CAPE  ...  CAPE_Inverse  Real_Yield_10Y\n",
       "count  1809.000000  1689.000000  ...   1689.000000     1689.000000\n",
       "mean   1945.940547    17.205097  ...      0.068786        0.021999\n",
       "std      43.529812     7.038601  ...      0.030577        0.024770\n",
       "min    1871.010000     4.784241  ...      0.022625       -0.036078\n",
       "25%    1908.090000    11.895760  ...      0.047817        0.006579\n",
       "50%    1946.050000    16.378480  ...      0.061056        0.023181\n",
       "75%    1984.010000    20.913092  ...      0.084064        0.038826\n",
       "max    2021.090000    44.197940  ...      0.209020        0.076360\n",
       "\n",
       "[8 rows x 13 columns]"
      ]
     },
     "execution_count": 7,
     "metadata": {},
     "output_type": "execute_result"
    }
   ],
   "source": [
    "df[\"Log_CAPE\"] = np.log(df[\"CAPE\"])\n",
    "df[\"CAPE_Inverse\"] = 1/df[\"CAPE\"]\n",
    "df[\"Real_Yield_10Y\"] = df.CAPE_Inverse - df.Excess_CAPE_Yield\n",
    "# Descriptive statistics\n",
    "df.describe()"
   ]
  },
  {
   "cell_type": "markdown",
   "metadata": {
    "id": "p6dI4vAx-AqK"
   },
   "source": [
    "\n",
    "Regression given by Shiller(1996):\n",
    "$$\n",
    "Real Returns Equity_{t+k}=\\alpha+\\beta_k \\log{CAPE_{t}}+\\varepsilon_{t+k,k}\n",
    "$$\n",
    "The intuition behind the regression is that under low-interest rate regimes, CAPE is unusually high. Currently SP500 CAPE sits at 39.6, 2nd highest of all time. A high CAPE ratio suggests that equities are overvalued, resulting in low subsequent returns while a low CAPE is suggestive of higher future returns. \n"
   ]
  },
  {
   "cell_type": "code",
   "execution_count": 51,
   "metadata": {
    "colab": {
     "base_uri": "https://localhost:8080/"
    },
    "executionInfo": {
     "elapsed": 210,
     "status": "ok",
     "timestamp": 1638326388612,
     "user": {
      "displayName": "wang zi yan",
      "photoUrl": "https://lh3.googleusercontent.com/a/default-user=s64",
      "userId": "14380685193038015432"
     },
     "user_tz": 300
    },
    "id": "Z_jvgcs08R5m",
    "outputId": "f7b2a2d4-8c66-47be-96b0-71735a7af4d8"
   },
   "outputs": [
    {
     "name": "stdout",
     "output_type": "stream",
     "text": [
      "                               OLS Regression Results                              \n",
      "===================================================================================\n",
      "Dep. Variable:     Real_Returns_Equity_10Y   R-squared:                       0.622\n",
      "Model:                                 OLS   Adj. R-squared:                  0.615\n",
      "Method:                      Least Squares   F-statistic:                     88.74\n",
      "Date:                     Wed, 01 Dec 2021   Prob (F-statistic):           5.43e-13\n",
      "Time:                             02:39:48   Log-Likelihood:                 148.66\n",
      "No. Observations:                       56   AIC:                            -293.3\n",
      "Df Residuals:                           54   BIC:                            -289.3\n",
      "Df Model:                                1                                         \n",
      "Covariance Type:                 nonrobust                                         \n",
      "==============================================================================\n",
      "                 coef    std err          t      P>|t|      [0.025      0.975]\n",
      "------------------------------------------------------------------------------\n",
      "const          0.4565      0.038     12.034      0.000       0.380       0.533\n",
      "Log_CAPE      -0.1169      0.012     -9.420      0.000      -0.142      -0.092\n",
      "==============================================================================\n",
      "Omnibus:                        7.599   Durbin-Watson:                   0.065\n",
      "Prob(Omnibus):                  0.022   Jarque-Bera (JB):                7.285\n",
      "Skew:                           0.820   Prob(JB):                       0.0262\n",
      "Kurtosis:                       2.342   Cond. No.                         55.4\n",
      "==============================================================================\n",
      "\n",
      "Warnings:\n",
      "[1] Standard Errors assume that the covariance matrix of the errors is correctly specified.\n"
     ]
    }
   ],
   "source": [
    "# Regression of different sample period\n",
    "\n",
    "split = 2007.01\n",
    "\n",
    "reg_data = df[df.Date < split][[\"Log_CAPE\", \"Real_Returns_Equity_10Y\"]].dropna()\n",
    "reg1_before = sm.OLS(reg_data.Real_Returns_Equity_10Y, sm.add_constant(reg_data[[\"Log_CAPE\"]]))\n",
    "result1_before = reg1_before.fit()\n",
    "\n",
    "reg_data = df[df.Date >= split][[\"Log_CAPE\", \"Real_Returns_Equity_10Y\"]].dropna()\n",
    "reg1_after = sm.OLS(reg_data.Real_Returns_Equity_10Y, sm.add_constant(reg_data[[\"Log_CAPE\"]]))\n",
    "result1_after = reg1_after.fit()\n",
    "\n",
    "# Entire period\n",
    "reg_data = df[[\"Log_CAPE\", \"Real_Returns_Equity_10Y\"]].dropna()\n",
    "reg1_all = sm.OLS(reg_data.Real_Returns_Equity_10Y, sm.add_constant(reg_data[[\"Log_CAPE\"]]))\n",
    "result1_all = reg1_all.fit()\n",
    "\n",
    "print(result1_after.summary())"
   ]
  },
  {
   "cell_type": "markdown",
   "metadata": {
    "id": "XWReju9YAf_O"
   },
   "source": [
    "Given the poor correlation between historical CAPE and forwards returns, we hypothesize two reasons for the poor predictive power of CAPE during low interest rate regimes:\n",
    "\n",
    "\n",
    "1.   Bond yields are depressed during low-interest regimes, which prompts investors to allocate more of their portfolio into equity, thus making equity more expensive.\n",
    "2.   Lower interest rates also lowers the discount rate, which increases equity valuation.\n",
    "\n",
    "It appears that CAPE is not able to capture the relative premium in investing in equity over bonds.\n",
    "\n",
    "Given the two reasons proposed above, we introduce the new measure proposed by Shiller (2020) adjusting for interest rate regime, which is defined as the inverse current CAPE ratio minus the current 10-year real interest rate, i.e.\n",
    "\n",
    "$$\n",
    "ExcessCAPEYield_t=\\frac{1}{CAPE_t}-10YearRealInterestRate_t,\n",
    "$$\n",
    "Excess CAPE Yield (ECY) tells us the premium an investor might expect by investing in equities over bonds. Based on this new measure, we can rerun the regression \n",
    "$$\n",
    "Real Returns Equity_{t+k}=\\alpha+\\beta_k ExcessCAPEYield_t+\\varepsilon_{t+k,k}\n",
    "$$\n",
    "as follows"
   ]
  },
  {
   "cell_type": "code",
   "execution_count": 38,
   "metadata": {
    "colab": {
     "base_uri": "https://localhost:8080/"
    },
    "executionInfo": {
     "elapsed": 149,
     "status": "ok",
     "timestamp": 1638320518491,
     "user": {
      "displayName": "wang zi yan",
      "photoUrl": "https://lh3.googleusercontent.com/a/default-user=s64",
      "userId": "14380685193038015432"
     },
     "user_tz": 300
    },
    "id": "L3R02Pe6AFZV",
    "outputId": "5fe0fbed-01a7-44d8-9476-d161014fa68d"
   },
   "outputs": [
    {
     "name": "stdout",
     "output_type": "stream",
     "text": [
      "                               OLS Regression Results                              \n",
      "===================================================================================\n",
      "Dep. Variable:     Real_Returns_Equity_10Y   R-squared:                       0.344\n",
      "Model:                                 OLS   Adj. R-squared:                  0.343\n",
      "Method:                      Least Squares   F-statistic:                     819.5\n",
      "Date:                     Wed, 01 Dec 2021   Prob (F-statistic):          2.55e-145\n",
      "Time:                             01:01:58   Log-Likelihood:                 2748.4\n",
      "No. Observations:                     1568   AIC:                            -5493.\n",
      "Df Residuals:                         1566   BIC:                            -5482.\n",
      "Df Model:                                1                                         \n",
      "Covariance Type:                 nonrobust                                         \n",
      "=====================================================================================\n",
      "                        coef    std err          t      P>|t|      [0.025      0.975]\n",
      "-------------------------------------------------------------------------------------\n",
      "const                 0.0343      0.002     22.408      0.000       0.031       0.037\n",
      "Excess_CAPE_Yield     0.6631      0.023     28.628      0.000       0.618       0.709\n",
      "==============================================================================\n",
      "Omnibus:                       32.317   Durbin-Watson:                   0.016\n",
      "Prob(Omnibus):                  0.000   Jarque-Bera (JB):               31.794\n",
      "Skew:                          -0.319   Prob(JB):                     1.25e-07\n",
      "Kurtosis:                       2.716   Cond. No.                         21.9\n",
      "==============================================================================\n",
      "\n",
      "Warnings:\n",
      "[1] Standard Errors assume that the covariance matrix of the errors is correctly specified.\n"
     ]
    }
   ],
   "source": [
    "reg_data = df[df.Date < split][[\"Excess_CAPE_Yield\", \"Real_Returns_Equity_10Y\"]].dropna()\n",
    "reg2_before = sm.OLS(reg_data.Real_Returns_Equity_10Y, sm.add_constant(reg_data[[\"Excess_CAPE_Yield\"]]))\n",
    "result2_before = reg2_before.fit()\n",
    "\n",
    "reg_data = df[df.Date >= split][[\"Excess_CAPE_Yield\", \"Real_Returns_Equity_10Y\"]].dropna()\n",
    "reg2_after = sm.OLS(reg_data.Real_Returns_Equity_10Y, sm.add_constant(reg_data[[\"Excess_CAPE_Yield\"]]))\n",
    "result2_after = reg2_after.fit()\n",
    "\n",
    "reg_data = df[[\"Excess_CAPE_Yield\", \"Real_Returns_Equity_10Y\"]].dropna()\n",
    "reg2_all = sm.OLS(reg_data.Real_Returns_Equity_10Y, sm.add_constant(reg_data[[\"Excess_CAPE_Yield\"]]))\n",
    "result2_all = reg2_all.fit()\n",
    "print(result2_all.summary())"
   ]
  },
  {
   "cell_type": "markdown",
   "metadata": {
    "id": "tgoQuTqZBcBB"
   },
   "source": [
    "And notice that $R^2$ has increased from 0.299 to 0.344, and the $t$-statistic of constant term is significantly larger.\n",
    "\n",
    "Based on this result, we can further include 10 years bond yield as a control variable, and regress the excess equity return on excess CAPE yield and 10 years real interest rate, i.e. running the regression\n",
    "\n",
    "\\begin{aligned}\n",
    "Real Returns Equity_{t+k}=\\alpha+\\beta_{1,k} \\log CAPE_t+\\beta_{2,k}Real Returns 10Y Bonds_{t+k}+\\varepsilon_{t+k,k}\n",
    "\\end{aligned}\n",
    "\n",
    "as the adjustment to interest rate regime."
   ]
  },
  {
   "cell_type": "code",
   "execution_count": 52,
   "metadata": {
    "colab": {
     "base_uri": "https://localhost:8080/"
    },
    "executionInfo": {
     "elapsed": 137,
     "status": "ok",
     "timestamp": 1638326413158,
     "user": {
      "displayName": "wang zi yan",
      "photoUrl": "https://lh3.googleusercontent.com/a/default-user=s64",
      "userId": "14380685193038015432"
     },
     "user_tz": 300
    },
    "id": "GCKzTKfnCbtv",
    "outputId": "0cdb470f-18fc-4005-ac38-fb882fff7b78"
   },
   "outputs": [
    {
     "name": "stdout",
     "output_type": "stream",
     "text": [
      "                               OLS Regression Results                              \n",
      "===================================================================================\n",
      "Dep. Variable:     Real_Returns_Equity_10Y   R-squared:                       0.760\n",
      "Model:                                 OLS   Adj. R-squared:                  0.751\n",
      "Method:                      Least Squares   F-statistic:                     84.01\n",
      "Date:                     Wed, 01 Dec 2021   Prob (F-statistic):           3.68e-17\n",
      "Time:                             02:40:13   Log-Likelihood:                 161.43\n",
      "No. Observations:                       56   AIC:                            -316.9\n",
      "Df Residuals:                           53   BIC:                            -310.8\n",
      "Df Model:                                2                                         \n",
      "Covariance Type:                 nonrobust                                         \n",
      "==================================================================================\n",
      "                     coef    std err          t      P>|t|      [0.025      0.975]\n",
      "----------------------------------------------------------------------------------\n",
      "const              0.3024      0.041      7.322      0.000       0.220       0.385\n",
      "Log_CAPE          -0.0581      0.015     -3.988      0.000      -0.087      -0.029\n",
      "Real_Yield_10Y    -2.3980      0.433     -5.533      0.000      -3.267      -1.529\n",
      "==============================================================================\n",
      "Omnibus:                        0.332   Durbin-Watson:                   0.308\n",
      "Prob(Omnibus):                  0.847   Jarque-Bera (JB):                0.509\n",
      "Skew:                           0.114   Prob(JB):                        0.775\n",
      "Kurtosis:                       2.592   Cond. No.                         751.\n",
      "==============================================================================\n",
      "\n",
      "Warnings:\n",
      "[1] Standard Errors assume that the covariance matrix of the errors is correctly specified.\n"
     ]
    }
   ],
   "source": [
    "reg_data = df[df.Date < split][[\"Log_CAPE\", \"Real_Yield_10Y\", \"Real_Returns_Equity_10Y\"]].dropna()\n",
    "reg3_before = sm.OLS(reg_data.Real_Returns_Equity_10Y, sm.add_constant(reg_data[[\"Log_CAPE\", \"Real_Yield_10Y\"]]))\n",
    "result3_before = reg3_before.fit()\n",
    "\n",
    "reg_data = df[df.Date >= split][[\"Log_CAPE\", \"Real_Yield_10Y\", \"Real_Returns_Equity_10Y\"]].dropna()\n",
    "reg3_after = sm.OLS(reg_data.Real_Returns_Equity_10Y, sm.add_constant(reg_data[[\"Log_CAPE\", \"Real_Yield_10Y\"]]))\n",
    "result3_after = reg3_after.fit()\n",
    "\n",
    "reg_data = df[[\"Log_CAPE\", \"Real_Yield_10Y\", \"Real_Returns_Equity_10Y\"]].dropna()\n",
    "reg3_all = sm.OLS(reg_data.Real_Returns_Equity_10Y, sm.add_constant(reg_data[[\"Log_CAPE\", \"Real_Yield_10Y\"]]))\n",
    "result3_all = reg3_all.fit()\n",
    "\n",
    "print(result3_after.summary())"
   ]
  },
  {
   "cell_type": "markdown",
   "metadata": {
    "id": "lYlV5yR1EqMS"
   },
   "source": [
    "And the result yields the highest $R^2$ so far, and all coefficients of the covariates are statistically significant."
   ]
  },
  {
   "cell_type": "code",
   "execution_count": 40,
   "metadata": {
    "executionInfo": {
     "elapsed": 129,
     "status": "ok",
     "timestamp": 1638320520859,
     "user": {
      "displayName": "wang zi yan",
      "photoUrl": "https://lh3.googleusercontent.com/a/default-user=s64",
      "userId": "14380685193038015432"
     },
     "user_tz": 300
    },
    "id": "x_k8UCEBEnLe"
   },
   "outputs": [],
   "source": [
    "df[\"Forecast_Real_Stock_Returns_10Y_CAPE\"] = result1_all.predict(sm.add_constant(df[[\"Log_CAPE\"]]))\n",
    "df[\"Forecast_Real_Stock_Returns_10Y_ECY\"] = result3_all.predict(sm.add_constant(df[[\"Log_CAPE\", \"Real_Yield_10Y\"]]))"
   ]
  },
  {
   "cell_type": "code",
   "execution_count": 41,
   "metadata": {
    "colab": {
     "base_uri": "https://localhost:8080/",
     "height": 317
    },
    "executionInfo": {
     "elapsed": 5,
     "status": "ok",
     "timestamp": 1638320521501,
     "user": {
      "displayName": "wang zi yan",
      "photoUrl": "https://lh3.googleusercontent.com/a/default-user=s64",
      "userId": "14380685193038015432"
     },
     "user_tz": 300
    },
    "id": "qc3STZbADqDU",
    "outputId": "f055d16c-cead-4117-a5e1-dd1b3ae5056b"
   },
   "outputs": [
    {
     "data": {
      "text/html": [
       "<div>\n",
       "<style scoped>\n",
       "    .dataframe tbody tr th:only-of-type {\n",
       "        vertical-align: middle;\n",
       "    }\n",
       "\n",
       "    .dataframe tbody tr th {\n",
       "        vertical-align: top;\n",
       "    }\n",
       "\n",
       "    .dataframe thead th {\n",
       "        text-align: right;\n",
       "    }\n",
       "</style>\n",
       "<table border=\"1\" class=\"dataframe\">\n",
       "  <thead>\n",
       "    <tr style=\"text-align: right;\">\n",
       "      <th></th>\n",
       "      <th>Date</th>\n",
       "      <th>CAPE</th>\n",
       "      <th>Excess_CAPE_Yield</th>\n",
       "      <th>Real_Returns_Equity_10Y</th>\n",
       "      <th>Real_Returns_Bond_10Y</th>\n",
       "      <th>Excess_Real_Returns_Equity_10Y</th>\n",
       "      <th>Real_Returns_Equity_2Y</th>\n",
       "      <th>Real_Returns_Equity_5Y</th>\n",
       "      <th>Real_Yield_2Y</th>\n",
       "      <th>Real_Yield_5Y</th>\n",
       "      <th>Log_CAPE</th>\n",
       "      <th>CAPE_Inverse</th>\n",
       "      <th>Real_Yield_10Y</th>\n",
       "      <th>Forecast_Real_Stock_Returns_10Y_CAPE</th>\n",
       "      <th>Forecast_Real_Stock_Returns_10Y_ECY</th>\n",
       "    </tr>\n",
       "  </thead>\n",
       "  <tbody>\n",
       "    <tr>\n",
       "      <th>count</th>\n",
       "      <td>1809.000000</td>\n",
       "      <td>1689.000000</td>\n",
       "      <td>1689.000000</td>\n",
       "      <td>1688.000000</td>\n",
       "      <td>1688.000000</td>\n",
       "      <td>1688.000000</td>\n",
       "      <td>1785.000000</td>\n",
       "      <td>1749.000000</td>\n",
       "      <td>1785.000000</td>\n",
       "      <td>1749.000000</td>\n",
       "      <td>1689.000000</td>\n",
       "      <td>1689.000000</td>\n",
       "      <td>1689.000000</td>\n",
       "      <td>1689.000000</td>\n",
       "      <td>1689.000000</td>\n",
       "    </tr>\n",
       "    <tr>\n",
       "      <th>mean</th>\n",
       "      <td>1945.940547</td>\n",
       "      <td>17.205097</td>\n",
       "      <td>0.046787</td>\n",
       "      <td>0.068713</td>\n",
       "      <td>0.025676</td>\n",
       "      <td>0.043037</td>\n",
       "      <td>0.077416</td>\n",
       "      <td>0.071505</td>\n",
       "      <td>0.023236</td>\n",
       "      <td>0.023088</td>\n",
       "      <td>2.763301</td>\n",
       "      <td>0.068786</td>\n",
       "      <td>0.021999</td>\n",
       "      <td>0.062775</td>\n",
       "      <td>0.064098</td>\n",
       "    </tr>\n",
       "    <tr>\n",
       "      <th>std</th>\n",
       "      <td>43.529812</td>\n",
       "      <td>7.038601</td>\n",
       "      <td>0.044269</td>\n",
       "      <td>0.051265</td>\n",
       "      <td>0.035520</td>\n",
       "      <td>0.048857</td>\n",
       "      <td>0.131341</td>\n",
       "      <td>0.078810</td>\n",
       "      <td>0.045758</td>\n",
       "      <td>0.032992</td>\n",
       "      <td>0.410662</td>\n",
       "      <td>0.030577</td>\n",
       "      <td>0.024770</td>\n",
       "      <td>0.030057</td>\n",
       "      <td>0.031122</td>\n",
       "    </tr>\n",
       "    <tr>\n",
       "      <th>min</th>\n",
       "      <td>1871.010000</td>\n",
       "      <td>4.784241</td>\n",
       "      <td>-0.025777</td>\n",
       "      <td>-0.059239</td>\n",
       "      <td>-0.054197</td>\n",
       "      <td>-0.099817</td>\n",
       "      <td>-0.436454</td>\n",
       "      <td>-0.132330</td>\n",
       "      <td>-0.147592</td>\n",
       "      <td>-0.106352</td>\n",
       "      <td>1.565327</td>\n",
       "      <td>0.022625</td>\n",
       "      <td>-0.036078</td>\n",
       "      <td>-0.012273</td>\n",
       "      <td>-0.007745</td>\n",
       "    </tr>\n",
       "    <tr>\n",
       "      <th>25%</th>\n",
       "      <td>1908.090000</td>\n",
       "      <td>11.895760</td>\n",
       "      <td>0.015711</td>\n",
       "      <td>0.037107</td>\n",
       "      <td>-0.001465</td>\n",
       "      <td>0.012844</td>\n",
       "      <td>0.001933</td>\n",
       "      <td>0.019214</td>\n",
       "      <td>0.004824</td>\n",
       "      <td>0.007119</td>\n",
       "      <td>2.476182</td>\n",
       "      <td>0.047817</td>\n",
       "      <td>0.006579</td>\n",
       "      <td>0.042496</td>\n",
       "      <td>0.041305</td>\n",
       "    </tr>\n",
       "    <tr>\n",
       "      <th>50%</th>\n",
       "      <td>1946.050000</td>\n",
       "      <td>16.378480</td>\n",
       "      <td>0.034904</td>\n",
       "      <td>0.068403</td>\n",
       "      <td>0.022427</td>\n",
       "      <td>0.036029</td>\n",
       "      <td>0.074828</td>\n",
       "      <td>0.072200</td>\n",
       "      <td>0.023176</td>\n",
       "      <td>0.022571</td>\n",
       "      <td>2.795968</td>\n",
       "      <td>0.061056</td>\n",
       "      <td>0.023181</td>\n",
       "      <td>0.060384</td>\n",
       "      <td>0.055855</td>\n",
       "    </tr>\n",
       "    <tr>\n",
       "      <th>75%</th>\n",
       "      <td>1984.010000</td>\n",
       "      <td>20.913092</td>\n",
       "      <td>0.066782</td>\n",
       "      <td>0.105631</td>\n",
       "      <td>0.056468</td>\n",
       "      <td>0.065182</td>\n",
       "      <td>0.160573</td>\n",
       "      <td>0.121356</td>\n",
       "      <td>0.040884</td>\n",
       "      <td>0.039101</td>\n",
       "      <td>3.040375</td>\n",
       "      <td>0.084064</td>\n",
       "      <td>0.038826</td>\n",
       "      <td>0.083790</td>\n",
       "      <td>0.084411</td>\n",
       "    </tr>\n",
       "    <tr>\n",
       "      <th>max</th>\n",
       "      <td>2021.090000</td>\n",
       "      <td>44.197940</td>\n",
       "      <td>0.235340</td>\n",
       "      <td>0.199585</td>\n",
       "      <td>0.109818</td>\n",
       "      <td>0.195984</td>\n",
       "      <td>0.542323</td>\n",
       "      <td>0.333465</td>\n",
       "      <td>0.172417</td>\n",
       "      <td>0.122252</td>\n",
       "      <td>3.788678</td>\n",
       "      <td>0.209020</td>\n",
       "      <td>0.076360</td>\n",
       "      <td>0.150457</td>\n",
       "      <td>0.164505</td>\n",
       "    </tr>\n",
       "  </tbody>\n",
       "</table>\n",
       "</div>"
      ],
      "text/plain": [
       "              Date  ...  Forecast_Real_Stock_Returns_10Y_ECY\n",
       "count  1809.000000  ...                          1689.000000\n",
       "mean   1945.940547  ...                             0.064098\n",
       "std      43.529812  ...                             0.031122\n",
       "min    1871.010000  ...                            -0.007745\n",
       "25%    1908.090000  ...                             0.041305\n",
       "50%    1946.050000  ...                             0.055855\n",
       "75%    1984.010000  ...                             0.084411\n",
       "max    2021.090000  ...                             0.164505\n",
       "\n",
       "[8 rows x 15 columns]"
      ]
     },
     "execution_count": 41,
     "metadata": {},
     "output_type": "execute_result"
    }
   ],
   "source": [
    "df.describe()"
   ]
  },
  {
   "cell_type": "code",
   "execution_count": 42,
   "metadata": {
    "colab": {
     "base_uri": "https://localhost:8080/",
     "height": 498
    },
    "executionInfo": {
     "elapsed": 426,
     "status": "ok",
     "timestamp": 1638320522817,
     "user": {
      "displayName": "wang zi yan",
      "photoUrl": "https://lh3.googleusercontent.com/a/default-user=s64",
      "userId": "14380685193038015432"
     },
     "user_tz": 300
    },
    "id": "kiZXqUIOxlQB",
    "outputId": "2f5ca179-dd17-438e-cccb-19d7e632d1ae"
   },
   "outputs": [
    {
     "data": {
      "image/png": "[encoded data removed]",
      "text/plain": [
       "<Figure size 720x576 with 1 Axes>"
      ]
     },
     "metadata": {
      "needs_background": "light"
     },
     "output_type": "display_data"
    }
   ],
   "source": [
    "df_clean = df[[\"Date\", \"Real_Returns_Equity_10Y\", \"Forecast_Real_Stock_Returns_10Y_CAPE\", \"Forecast_Real_Stock_Returns_10Y_ECY\"]].dropna()\n",
    "\n",
    "plt.figure(figsize=(10, 8))\n",
    "plt.plot(df_clean.Date, df_clean.Real_Returns_Equity_10Y, label=\"Real Returns\", color='lightcoral')\n",
    "plt.plot(df_clean.Date, df_clean.Forecast_Real_Stock_Returns_10Y_CAPE, label=\"Forecast Returns CAPE\", color='#4b0082')\n",
    "plt.plot(df_clean.Date, df_clean.Forecast_Real_Stock_Returns_10Y_ECY, label=\"Forecast Returns ECY\")\n",
    "plt.title(\"CAPE-based 10-Year Forecast of Real Equity Returns versus Actual Returns\")\n",
    "plt.legend()\n",
    "# plt.grid()\n",
    "plt.show()"
   ]
  },
  {
   "cell_type": "code",
   "execution_count": 44,
   "metadata": {
    "colab": {
     "base_uri": "https://localhost:8080/",
     "height": 498
    },
    "executionInfo": {
     "elapsed": 427,
     "status": "ok",
     "timestamp": 1638320531125,
     "user": {
      "displayName": "wang zi yan",
      "photoUrl": "https://lh3.googleusercontent.com/a/default-user=s64",
      "userId": "14380685193038015432"
     },
     "user_tz": 300
    },
    "id": "_hj9VbvEd6X_",
    "outputId": "a62a7b7f-4db5-4522-e44e-fefe0939dd87"
   },
   "outputs": [
    {
     "data": {
      "image/png": "[encoded data removed]",
      "text/plain": [
       "<Figure size 720x576 with 1 Axes>"
      ]
     },
     "metadata": {
      "needs_background": "light"
     },
     "output_type": "display_data"
    }
   ],
   "source": [
    "df[\"Forecast_Real_Stock_Returns_10Y_CAPE\"] = result1_after.predict(sm.add_constant(df[[\"Log_CAPE\"]]))\n",
    "df[\"Forecast_Real_Stock_Returns_10Y_ECY\"] = result3_after.predict(sm.add_constant(df[[\"Log_CAPE\", \"Real_Yield_10Y\"]]))\n",
    "\n",
    "df_clean = df[[\"Date\", \"Real_Returns_Equity_10Y\", \"Forecast_Real_Stock_Returns_10Y_CAPE\", \"Forecast_Real_Stock_Returns_10Y_ECY\"]].dropna()\n",
    "\n",
    "split = 2007.01\n",
    "\n",
    "df_clean = df_clean[df_clean.Date >= split]\n",
    "\n",
    "plt.figure(figsize=(10, 8))\n",
    "plt.plot(df_clean.Date, df_clean.Real_Returns_Equity_10Y, label=\"Real Returns\", color='lightcoral')\n",
    "plt.plot(df_clean.Date, df_clean.Forecast_Real_Stock_Returns_10Y_CAPE, label=\"Forecast Returns CAPE\", color='#4b0082')\n",
    "plt.plot(df_clean.Date, df_clean.Forecast_Real_Stock_Returns_10Y_ECY, label=\"Forecast Returns ECY\")\n",
    "plt.title(\"CAPE-based 10-Year Forecast of Real Equity Returns versus Actual Returns\")\n",
    "plt.legend()\n",
    "# plt.grid()\n",
    "plt.show()\n"
   ]
  },
  {
   "cell_type": "markdown",
   "metadata": {
    "id": "uaKntE-SGJJL"
   },
   "source": [
    "## Plots\n",
    "### Scatterplot of stock returns and long term interest rates"
   ]
  },
  {
   "cell_type": "code",
   "execution_count": null,
   "metadata": {
    "colab": {
     "base_uri": "https://localhost:8080/",
     "height": 514
    },
    "executionInfo": {
     "elapsed": 603,
     "status": "ok",
     "timestamp": 1638313143558,
     "user": {
      "displayName": "Jian Chen",
      "photoUrl": "https://lh3.googleusercontent.com/a/default-user=s64",
      "userId": "11950204135746294673"
     },
     "user_tz": 300
    },
    "id": "qLvJAWVDGPex",
    "outputId": "cca11f2e-7dd3-43a4-b638-d846a57af3b5"
   },
   "outputs": [
    {
     "data": {
      "text/plain": [
       "<matplotlib.axes._subplots.AxesSubplot at 0x7f24020e4510>"
      ]
     },
     "execution_count": 48,
     "metadata": {},
     "output_type": "execute_result"
    },
    {
     "data": {
      "image/png": "[encoded data removed]",
      "text/plain": [
       "<Figure size 720x576 with 1 Axes>"
      ]
     },
     "metadata": {
      "needs_background": "light"
     },
     "output_type": "display_data"
    }
   ],
   "source": [
    "plt.figure(figsize=(10, 8))\n",
    "# plt.grid()\n",
    "sns.regplot(x=df[\"Real_Yield_10Y\"], y=df.Real_Returns_Equity_10Y, marker=\"+\")"
   ]
  },
  {
   "cell_type": "markdown",
   "metadata": {
    "id": "Vt3XG6z2Jyj2"
   },
   "source": [
    "### Time Series of CAPE and 10 years nominal Interest Rate"
   ]
  },
  {
   "cell_type": "code",
   "execution_count": null,
   "metadata": {
    "colab": {
     "base_uri": "https://localhost:8080/",
     "height": 516
    },
    "executionInfo": {
     "elapsed": 569,
     "status": "ok",
     "timestamp": 1638313177926,
     "user": {
      "displayName": "Jian Chen",
      "photoUrl": "https://lh3.googleusercontent.com/a/default-user=s64",
      "userId": "11950204135746294673"
     },
     "user_tz": 300
    },
    "id": "rNZU86wHKXvR",
    "outputId": "7b4dff02-b29b-4bc8-c65a-fe13f54392a2"
   },
   "outputs": [
    {
     "data": {
      "text/plain": [
       "Text(0, 0.5, 'Interest Rate')"
      ]
     },
     "execution_count": 51,
     "metadata": {},
     "output_type": "execute_result"
    },
    {
     "data": {
      "image/png": "[encoded data removed]",
      "text/plain": [
       "<Figure size 720x576 with 2 Axes>"
      ]
     },
     "metadata": {
      "needs_background": "light"
     },
     "output_type": "display_data"
    }
   ],
   "source": [
    "fig = plt.figure(figsize=(10, 8))\n",
    "ax = fig.add_subplot(111)\n",
    "ax.plot(df.Date, df.CAPE, label=\"CAPE\", color='lightcoral')\n",
    "ax2 = ax.twinx()\n",
    "ax2.plot(df.Date, df['10Y_Nominal_Yield']/100, label=\"10Y Nominal Yield\", color='#4b0082')\n",
    "ax.legend(loc='upper left')\n",
    "ax2.legend(loc='upper right')\n",
    "ax.grid()\n",
    "ax.set_xlabel(\"Year\")\n",
    "ax.set_ylabel(\"CAPE\")\n",
    "ax2.set_ylabel(\"Interest Rate\")"
   ]
  },
  {
   "cell_type": "code",
   "execution_count": null,
   "metadata": {
    "colab": {
     "base_uri": "https://localhost:8080/"
    },
    "executionInfo": {
     "elapsed": 4001,
     "status": "ok",
     "timestamp": 1638313256770,
     "user": {
      "displayName": "Jian Chen",
      "photoUrl": "https://lh3.googleusercontent.com/a/default-user=s64",
      "userId": "11950204135746294673"
     },
     "user_tz": 300
    },
    "id": "Kn9zqoQTFC5Z",
    "outputId": "8bba4bb9-7fd3-49b2-c48b-22a3c3c83cff"
   },
   "outputs": [
    {
     "name": "stdout",
     "output_type": "stream",
     "text": [
      "Collecting stargazer\n",
      "  Downloading stargazer-0.0.5-py3-none-any.whl (9.7 kB)\n",
      "Installing collected packages: stargazer\n",
      "Successfully installed stargazer-0.0.5\n"
     ]
    }
   ],
   "source": [
    "!pip install stargazer"
   ]
  },
  {
   "cell_type": "code",
   "execution_count": null,
   "metadata": {
    "colab": {
     "base_uri": "https://localhost:8080/",
     "height": 408
    },
    "executionInfo": {
     "elapsed": 391,
     "status": "ok",
     "timestamp": 1638313272103,
     "user": {
      "displayName": "Jian Chen",
      "photoUrl": "https://lh3.googleusercontent.com/a/default-user=s64",
      "userId": "11950204135746294673"
     },
     "user_tz": 300
    },
    "id": "ZDHvd8naLHI0",
    "outputId": "e5e52cf5-10d9-482e-c174-dbe859271e94"
   },
   "outputs": [
    {
     "data": {
      "text/html": [
       "<table style=\"text-align:center\"><tr><td colspan=\"4\" style=\"border-bottom: 1px solid black\"></td></tr><tr><td style=\"text-align:left\"></td><td colspan=\"3\"><em>Dependent variable:Real_Returns_Equity_10Y</em></td></tr><tr><td style=\"text-align:left\"></td><tr><td style=\"text-align:left\"></td><td>(1)</td><td>(2)</td><td>(3)</td></tr><tr><td colspan=\"4\" style=\"border-bottom: 1px solid black\"></td></tr><tr><td style=\"text-align:left\">Excess_CAPE_Yield</td><td></td><td>0.667<sup>***</sup></td><td></td></tr><tr><td style=\"text-align:left\"></td><td></td><td>(0.023)</td><td></td></tr><tr><td style=\"text-align:left\">Log_CAPE</td><td>-0.078<sup>***</sup></td><td></td><td>-0.067<sup>***</sup></td></tr><tr><td style=\"text-align:left\"></td><td>(0.003)</td><td></td><td>(0.003)</td></tr><tr><td style=\"text-align:left\">Real_Yield_10Y</td><td></td><td></td><td>-0.465<sup>***</sup></td></tr><tr><td style=\"text-align:left\"></td><td></td><td></td><td>(0.044)</td></tr><tr><td style=\"text-align:left\">const</td><td>0.275<sup>***</sup></td><td>0.033<sup>***</sup></td><td>0.258<sup>***</sup></td></tr><tr><td style=\"text-align:left\"></td><td>(0.008)</td><td>(0.002)</td><td>(0.007)</td></tr><td colspan=\"4\" style=\"border-bottom: 1px solid black\"></td></tr><tr><td style=\"text-align: left\">Observations</td><td>1,512</td><td>1,512</td><td>1,512</td></tr><tr><td style=\"text-align: left\">R<sup>2</sup></td><td>0.347</td><td>0.355</td><td>0.391</td></tr><tr><td style=\"text-align: left\">Adjusted R<sup>2</sup></td><td>0.346</td><td>0.354</td><td>0.391</td></tr><tr><td style=\"text-align: left\">Residual Std. Error</td><td>0.042 (df=1510)</td><td>0.042 (df=1510)</td><td>0.041 (df=1509)</td></tr><tr><td style=\"text-align: left\">F Statistic</td><td>801.294<sup>***</sup> (df=1; 1510)</td><td>830.638<sup>***</sup> (df=1; 1510)</td><td>485.118<sup>***</sup> (df=2; 1509)</td></tr><tr><td colspan=\"4\" style=\"border-bottom: 1px solid black\"></td></tr><tr><td style=\"text-align: left\">Note:</td>\n",
       " <td colspan=\"3\" style=\"text-align: right\">\n",
       "  <sup>*</sup>p&lt;0.1;\n",
       "  <sup>**</sup>p&lt;0.05;\n",
       "  <sup>***</sup>p&lt;0.01\n",
       " </td></tr></table>"
      ],
      "text/plain": [
       "<IPython.core.display.HTML object>"
      ]
     },
     "execution_count": 54,
     "metadata": {},
     "output_type": "execute_result"
    }
   ],
   "source": [
    "from stargazer.stargazer import Stargazer\n",
    "from IPython.core.display import HTML\n",
    "# Regression results samlpe period: 1880-2007\n",
    "stargazer = Stargazer([result1_before,result2_before,result3_before])\n",
    "\n",
    "HTML(stargazer.render_html())"
   ]
  },
  {
   "cell_type": "code",
   "execution_count": null,
   "metadata": {
    "colab": {
     "base_uri": "https://localhost:8080/",
     "height": 408
    },
    "executionInfo": {
     "elapsed": 145,
     "status": "ok",
     "timestamp": 1638313317616,
     "user": {
      "displayName": "Jian Chen",
      "photoUrl": "https://lh3.googleusercontent.com/a/default-user=s64",
      "userId": "11950204135746294673"
     },
     "user_tz": 300
    },
    "id": "CjBIOe6vFOCF",
    "outputId": "3b532697-7427-4e12-97de-cb06940df2a5"
   },
   "outputs": [
    {
     "data": {
      "text/html": [
       "<table style=\"text-align:center\"><tr><td colspan=\"4\" style=\"border-bottom: 1px solid black\"></td></tr><tr><td style=\"text-align:left\"></td><td colspan=\"3\"><em>Dependent variable:Real_Returns_Equity_10Y</em></td></tr><tr><td style=\"text-align:left\"></td><tr><td style=\"text-align:left\"></td><td>(1)</td><td>(2)</td><td>(3)</td></tr><tr><td colspan=\"4\" style=\"border-bottom: 1px solid black\"></td></tr><tr><td style=\"text-align:left\">Excess_CAPE_Yield</td><td></td><td>1.610<sup>***</sup></td><td></td></tr><tr><td style=\"text-align:left\"></td><td></td><td>(0.138)</td><td></td></tr><tr><td style=\"text-align:left\">Log_CAPE</td><td>-0.117<sup>***</sup></td><td></td><td>-0.058<sup>***</sup></td></tr><tr><td style=\"text-align:left\"></td><td>(0.012)</td><td></td><td>(0.015)</td></tr><tr><td style=\"text-align:left\">Real_Yield_10Y</td><td></td><td></td><td>-2.398<sup>***</sup></td></tr><tr><td style=\"text-align:left\"></td><td></td><td></td><td>(0.433)</td></tr><tr><td style=\"text-align:left\">const</td><td>0.457<sup>***</sup></td><td>0.039<sup>***</sup></td><td>0.302<sup>***</sup></td></tr><tr><td style=\"text-align:left\"></td><td>(0.038)</td><td>(0.006)</td><td>(0.041)</td></tr><td colspan=\"4\" style=\"border-bottom: 1px solid black\"></td></tr><tr><td style=\"text-align: left\">Observations</td><td>56</td><td>56</td><td>56</td></tr><tr><td style=\"text-align: left\">R<sup>2</sup></td><td>0.622</td><td>0.715</td><td>0.760</td></tr><tr><td style=\"text-align: left\">Adjusted R<sup>2</sup></td><td>0.615</td><td>0.710</td><td>0.751</td></tr><tr><td style=\"text-align: left\">Residual Std. Error</td><td>0.017 (df=54)</td><td>0.015 (df=54)</td><td>0.014 (df=53)</td></tr><tr><td style=\"text-align: left\">F Statistic</td><td>88.736<sup>***</sup> (df=1; 54)</td><td>135.666<sup>***</sup> (df=1; 54)</td><td>84.010<sup>***</sup> (df=2; 53)</td></tr><tr><td colspan=\"4\" style=\"border-bottom: 1px solid black\"></td></tr><tr><td style=\"text-align: left\">Note:</td>\n",
       " <td colspan=\"3\" style=\"text-align: right\">\n",
       "  <sup>*</sup>p&lt;0.1;\n",
       "  <sup>**</sup>p&lt;0.05;\n",
       "  <sup>***</sup>p&lt;0.01\n",
       " </td></tr></table>"
      ],
      "text/plain": [
       "<IPython.core.display.HTML object>"
      ]
     },
     "execution_count": 55,
     "metadata": {},
     "output_type": "execute_result"
    }
   ],
   "source": [
    "# Regression results samlpe period: 2007-2021\n",
    "stargazer = Stargazer([result1_after,result2_after,result3_after])\n",
    "\n",
    "HTML(stargazer.render_html())"
   ]
  },
  {
   "cell_type": "code",
   "execution_count": null,
   "metadata": {
    "colab": {
     "base_uri": "https://localhost:8080/",
     "height": 408
    },
    "executionInfo": {
     "elapsed": 216,
     "status": "ok",
     "timestamp": 1638313356477,
     "user": {
      "displayName": "Jian Chen",
      "photoUrl": "https://lh3.googleusercontent.com/a/default-user=s64",
      "userId": "11950204135746294673"
     },
     "user_tz": 300
    },
    "id": "x7cjqGeIFXUg",
    "outputId": "aab74de3-778b-4757-974d-c29225710cc7"
   },
   "outputs": [
    {
     "data": {
      "text/html": [
       "<table style=\"text-align:center\"><tr><td colspan=\"4\" style=\"border-bottom: 1px solid black\"></td></tr><tr><td style=\"text-align:left\"></td><td colspan=\"3\"><em>Dependent variable:Real_Returns_Equity_10Y</em></td></tr><tr><td style=\"text-align:left\"></td><tr><td style=\"text-align:left\"></td><td>(1)</td><td>(2)</td><td>(3)</td></tr><tr><td colspan=\"4\" style=\"border-bottom: 1px solid black\"></td></tr><tr><td style=\"text-align:left\">Excess_CAPE_Yield</td><td></td><td>0.663<sup>***</sup></td><td></td></tr><tr><td style=\"text-align:left\"></td><td></td><td>(0.023)</td><td></td></tr><tr><td style=\"text-align:left\">Log_CAPE</td><td>-0.073<sup>***</sup></td><td></td><td>-0.062<sup>***</sup></td></tr><tr><td style=\"text-align:left\"></td><td>(0.003)</td><td></td><td>(0.003)</td></tr><tr><td style=\"text-align:left\">Real_Yield_10Y</td><td></td><td></td><td>-0.534<sup>***</sup></td></tr><tr><td style=\"text-align:left\"></td><td></td><td></td><td>(0.044)</td></tr><tr><td style=\"text-align:left\">const</td><td>0.265<sup>***</sup></td><td>0.034<sup>***</sup></td><td>0.248<sup>***</sup></td></tr><tr><td style=\"text-align:left\"></td><td>(0.008)</td><td>(0.002)</td><td>(0.007)</td></tr><td colspan=\"4\" style=\"border-bottom: 1px solid black\"></td></tr><tr><td style=\"text-align: left\">Observations</td><td>1,568</td><td>1,568</td><td>1,568</td></tr><tr><td style=\"text-align: left\">R<sup>2</sup></td><td>0.311</td><td>0.344</td><td>0.370</td></tr><tr><td style=\"text-align: left\">Adjusted R<sup>2</sup></td><td>0.311</td><td>0.343</td><td>0.370</td></tr><tr><td style=\"text-align: left\">Residual Std. Error</td><td>0.043 (df=1566)</td><td>0.042 (df=1566)</td><td>0.041 (df=1565)</td></tr><tr><td style=\"text-align: left\">F Statistic</td><td>707.926<sup>***</sup> (df=1; 1566)</td><td>819.547<sup>***</sup> (df=1; 1566)</td><td>460.203<sup>***</sup> (df=2; 1565)</td></tr><tr><td colspan=\"4\" style=\"border-bottom: 1px solid black\"></td></tr><tr><td style=\"text-align: left\">Note:</td>\n",
       " <td colspan=\"3\" style=\"text-align: right\">\n",
       "  <sup>*</sup>p&lt;0.1;\n",
       "  <sup>**</sup>p&lt;0.05;\n",
       "  <sup>***</sup>p&lt;0.01\n",
       " </td></tr></table>"
      ],
      "text/plain": [
       "<IPython.core.display.HTML object>"
      ]
     },
     "execution_count": 56,
     "metadata": {},
     "output_type": "execute_result"
    }
   ],
   "source": [
    "# Regression results entire period\n",
    "stargazer = Stargazer([result1_all,result2_all,result3_all])\n",
    "\n",
    "HTML(stargazer.render_html())"
   ]
  },
  {
   "cell_type": "code",
   "execution_count": null,
   "metadata": {
    "colab": {
     "base_uri": "https://localhost:8080/"
    },
    "executionInfo": {
     "elapsed": 152,
     "status": "ok",
     "timestamp": 1638313372516,
     "user": {
      "displayName": "Jian Chen",
      "photoUrl": "https://lh3.googleusercontent.com/a/default-user=s64",
      "userId": "11950204135746294673"
     },
     "user_tz": 300
    },
    "id": "SqG5axo5htE0",
    "outputId": "de67db66-b0fa-4fff-8fbe-ac59c6d1cb24"
   },
   "outputs": [
    {
     "data": {
      "text/plain": [
       "Index(['Date', '10Y_Nominal_Yield', 'CAPE', 'Excess_CAPE_Yield',\n",
       "       'Real_Returns_Equity_10Y', 'Real_Returns_Bond_10Y',\n",
       "       'Excess_Real_Returns_Equity_10Y', 'Real_Returns_Equity_2Y',\n",
       "       'Real_Returns_Equity_5Y', 'Real_Yield_2Y', 'Real_Yield_5Y', 'Log_CAPE',\n",
       "       'CAPE_Inverse', 'Real_Yield_10Y',\n",
       "       'Forecast_Real_Stock_Returns_CAPE_10Y',\n",
       "       'Forecast_Real_Stock_Returns_10Y_ECY',\n",
       "       'Forecast_Real_Stock_Returns_10Y_CAPE'],\n",
       "      dtype='object')"
      ]
     },
     "execution_count": 57,
     "metadata": {},
     "output_type": "execute_result"
    }
   ],
   "source": [
    "df.columns"
   ]
  },
  {
   "cell_type": "code",
   "execution_count": 46,
   "metadata": {
    "executionInfo": {
     "elapsed": 145,
     "status": "ok",
     "timestamp": 1638322769569,
     "user": {
      "displayName": "wang zi yan",
      "photoUrl": "https://lh3.googleusercontent.com/a/default-user=s64",
      "userId": "14380685193038015432"
     },
     "user_tz": 300
    },
    "id": "6knaSvgkOVQR"
   },
   "outputs": [],
   "source": [
    "tab = pd.DataFrame()\n",
    "for year in [\"2Y\", \"5Y\", \"10Y\"]:\n",
    "\n",
    "    reg_data = df[[\"Real_Returns_Equity_\"+year, \"CAPE_Inverse\", \"Real_Yield_\"+year]].dropna()\n",
    "\n",
    "    reg_CAPE = sm.OLS(reg_data[\"Real_Returns_Equity_\"+year], sm.add_constant(reg_data[[\"CAPE_Inverse\"]]))\n",
    "    result_CAPE = reg_CAPE.fit()\n",
    "\n",
    "    reg_ECY = sm.OLS(reg_data[\"Real_Returns_Equity_\"+year] -reg_data[\"Real_Yield_\"+year], sm.add_constant(reg_data[[\"CAPE_Inverse\", \"Real_Yield_\"+year]]))\n",
    "    result_ECY = reg_ECY.fit()\n",
    "\n",
    "    # Predictions\n",
    "    a1 = result_CAPE.predict(sm.add_constant(df)[df.Date==2020.01][[\"const\", \"CAPE_Inverse\"]]).values[0]\n",
    "    a2 = result_CAPE.predict(sm.add_constant(df)[df.Date==2021.08][[\"const\", \"CAPE_Inverse\"]]).values[0]\n",
    "    b1 = result_ECY.predict(sm.add_constant(df)[df.Date==2020.01][[\"const\", \"CAPE_Inverse\", \"Real_Yield_\"+year]]).values[0]\n",
    "    b2 = result_ECY.predict(sm.add_constant(df)[df.Date==2021.08][[\"const\", \"CAPE_Inverse\", \"Real_Yield_\"+year]]).values[0]\n",
    "    preds = [a1, a2, b1, b2]\n",
    "    tab[year] = preds"
   ]
  },
  {
   "cell_type": "code",
   "execution_count": 47,
   "metadata": {
    "colab": {
     "base_uri": "https://localhost:8080/",
     "height": 142
    },
    "executionInfo": {
     "elapsed": 224,
     "status": "ok",
     "timestamp": 1638322771751,
     "user": {
      "displayName": "wang zi yan",
      "photoUrl": "https://lh3.googleusercontent.com/a/default-user=s64",
      "userId": "14380685193038015432"
     },
     "user_tz": 300
    },
    "id": "-pUWyWbTiSEx",
    "outputId": "affa5456-3dc1-467d-d6ce-b507927841be"
   },
   "outputs": [
    {
     "data": {
      "text/html": [
       "<div>\n",
       "<style scoped>\n",
       "    .dataframe tbody tr th:only-of-type {\n",
       "        vertical-align: middle;\n",
       "    }\n",
       "\n",
       "    .dataframe tbody tr th {\n",
       "        vertical-align: top;\n",
       "    }\n",
       "\n",
       "    .dataframe thead th {\n",
       "        text-align: right;\n",
       "    }\n",
       "</style>\n",
       "<table border=\"1\" class=\"dataframe\">\n",
       "  <thead>\n",
       "    <tr style=\"text-align: right;\">\n",
       "      <th></th>\n",
       "      <th>CAPE_before_pandemic</th>\n",
       "      <th>CAPE_current</th>\n",
       "      <th>ECY_before_pandemic</th>\n",
       "      <th>ECY_current</th>\n",
       "    </tr>\n",
       "  </thead>\n",
       "  <tbody>\n",
       "    <tr>\n",
       "      <th>2Y</th>\n",
       "      <td>0.032052</td>\n",
       "      <td>0.025153</td>\n",
       "      <td>0.021443</td>\n",
       "      <td>0.024518</td>\n",
       "    </tr>\n",
       "    <tr>\n",
       "      <th>5Y</th>\n",
       "      <td>0.027358</td>\n",
       "      <td>0.020760</td>\n",
       "      <td>0.023490</td>\n",
       "      <td>0.025473</td>\n",
       "    </tr>\n",
       "    <tr>\n",
       "      <th>10Y</th>\n",
       "      <td>0.029520</td>\n",
       "      <td>0.023909</td>\n",
       "      <td>0.047357</td>\n",
       "      <td>0.052116</td>\n",
       "    </tr>\n",
       "  </tbody>\n",
       "</table>\n",
       "</div>"
      ],
      "text/plain": [
       "     CAPE_before_pandemic  CAPE_current  ECY_before_pandemic  ECY_current\n",
       "2Y               0.032052      0.025153             0.021443     0.024518\n",
       "5Y               0.027358      0.020760             0.023490     0.025473\n",
       "10Y              0.029520      0.023909             0.047357     0.052116"
      ]
     },
     "execution_count": 47,
     "metadata": {},
     "output_type": "execute_result"
    }
   ],
   "source": [
    "tab = tab.T\n",
    "tab.columns = [\"CAPE_before_pandemic\", \"CAPE_current\", \"ECY_before_pandemic\", \"ECY_current\"]\n",
    "tab"
   ]
  },
  {
   "cell_type": "code",
   "execution_count": 48,
   "metadata": {
    "colab": {
     "base_uri": "https://localhost:8080/",
     "height": 512
    },
    "executionInfo": {
     "elapsed": 484,
     "status": "ok",
     "timestamp": 1638322773242,
     "user": {
      "displayName": "wang zi yan",
      "photoUrl": "https://lh3.googleusercontent.com/a/default-user=s64",
      "userId": "14380685193038015432"
     },
     "user_tz": 300
    },
    "id": "GF1yMv4GjENz",
    "outputId": "c9fc46b4-30e3-43bd-eb64-d18d757dac77"
   },
   "outputs": [
    {
     "data": {
      "image/png": "[encoded data removed]",
      "text/plain": [
       "<Figure size 720x576 with 1 Axes>"
      ]
     },
     "metadata": {
      "needs_background": "light"
     },
     "output_type": "display_data"
    }
   ],
   "source": [
    "from scipy.interpolate import make_interp_spline, BSpline\n",
    "from scipy.interpolate import CubicSpline\n",
    "\n",
    "#create smooth line chart \n",
    "fig = plt.figure(figsize=(10, 8))\n",
    "ax = fig.add_subplot(111)\n",
    "\n",
    "#create data\n",
    "x = np.array([2, 5, 10])\n",
    "y = np.array(tab.CAPE_before_pandemic)\n",
    "#define x as 200 equally spaced values between the min and max of original x \n",
    "xnew = np.linspace(x.min(), x.max(), 200) \n",
    "#define spline\n",
    "spl = CubicSpline(x, y)\n",
    "y_smooth = spl(xnew)\n",
    "ax.plot(xnew, y_smooth, label=\"Pre-pandemic\", color='#4b0082')\n",
    "\n",
    "#create data\n",
    "x = np.array([2, 5, 10])\n",
    "y = np.array(tab.CAPE_current)\n",
    "#define x as 200 equally spaced values between the min and max of original x \n",
    "xnew = np.linspace(x.min(), x.max(), 200) \n",
    "#define spline\n",
    "spl = CubicSpline(x, y)\n",
    "y_smooth = spl(xnew)\n",
    "ax.plot(xnew, y_smooth, label=\"Current\", color='lightcoral')\n",
    "# ax.grid()\n",
    "ax.legend()\n",
    "ax.set_xticks([2, 5, 10])\n",
    "ax.set_xlabel(\"Year\")\n",
    "ax.set_ylabel(\"Return\")\n",
    "plt.title(\"Expected Real Equity Returns Predicted By CAPE\")\n",
    "plt.show()"
   ]
  },
  {
   "cell_type": "code",
   "execution_count": 50,
   "metadata": {
    "colab": {
     "base_uri": "https://localhost:8080/",
     "height": 512
    },
    "executionInfo": {
     "elapsed": 516,
     "status": "ok",
     "timestamp": 1638322827967,
     "user": {
      "displayName": "wang zi yan",
      "photoUrl": "https://lh3.googleusercontent.com/a/default-user=s64",
      "userId": "14380685193038015432"
     },
     "user_tz": 300
    },
    "id": "i7RLqElPobKi",
    "outputId": "ba4728e4-0b35-4054-957d-6853e81be81a"
   },
   "outputs": [
    {
     "data": {
      "image/png": "[encoded data removed]",
      "text/plain": [
       "<Figure size 720x576 with 1 Axes>"
      ]
     },
     "metadata": {
      "needs_background": "light"
     },
     "output_type": "display_data"
    }
   ],
   "source": [
    "#create smooth line chart \n",
    "fig = plt.figure(figsize=(10, 8))\n",
    "ax = fig.add_subplot(111)\n",
    "\n",
    "#create data\n",
    "x = np.array([2, 5, 10])\n",
    "y = np.array(tab.ECY_before_pandemic)\n",
    "#define x as 200 equally spaced values between the min and max of original x \n",
    "xnew = np.linspace(x.min(), x.max(), 200) \n",
    "#define spline\n",
    "spl = CubicSpline(x, y)\n",
    "y_smooth = spl(xnew)\n",
    "ax.plot(xnew, y_smooth, label=\"Pre-pandemic\", color='#4b0082')\n",
    "\n",
    "#create data\n",
    "x = np.array([2, 5, 10])\n",
    "y = np.array(tab.ECY_current)\n",
    "#define x as 200 equally spaced values between the min and max of original x \n",
    "xnew = np.linspace(x.min(), x.max(), 200) \n",
    "#define spline\n",
    "spl = CubicSpline(x, y)\n",
    "y_smooth = spl(xnew)\n",
    "ax.plot(xnew, y_smooth, label=\"Current\", color='lightcoral')\n",
    "# ax.grid()\n",
    "ax.legend()\n",
    "ax.set_xticks([2, 5, 10])\n",
    "ax.set_xlabel(\"Year\")\n",
    "ax.set_ylabel(\"Return\")\n",
    "plt.title(\"Expected Excess Real Equity Returns Predicted By ECY\")\n",
    "plt.show()"
   ]
  },
  {
   "cell_type": "code",
   "execution_count": 45,
   "metadata": {
    "colab": {
     "base_uri": "https://localhost:8080/"
    },
    "executionInfo": {
     "elapsed": 158,
     "status": "ok",
     "timestamp": 1638322699885,
     "user": {
      "displayName": "wang zi yan",
      "photoUrl": "https://lh3.googleusercontent.com/a/default-user=s64",
      "userId": "14380685193038015432"
     },
     "user_tz": 300
    },
    "id": "wX_WZgi41K08",
    "outputId": "54527f1e-c389-4ca0-a520-c15b604e5441"
   },
   "outputs": [
    {
     "data": {
      "text/plain": [
       "0            NaN\n",
       "1            NaN\n",
       "2            NaN\n",
       "3            NaN\n",
       "4            NaN\n",
       "          ...   \n",
       "1804   -0.001460\n",
       "1805   -0.003511\n",
       "1806   -0.005910\n",
       "1807   -0.006273\n",
       "1808   -0.006140\n",
       "Name: Real_Yield_10Y, Length: 1809, dtype: float64"
      ]
     },
     "execution_count": 45,
     "metadata": {},
     "output_type": "execute_result"
    }
   ],
   "source": []
  },
  {
   "cell_type": "code",
   "execution_count": null,
   "metadata": {
    "id": "5iOJ0tcWpHw4"
   },
   "outputs": [],
   "source": []
  }
 ],
 "metadata": {
  "colab": {
   "collapsed_sections": [],
   "name": "interest rate regression.ipynb",
   "provenance": []
  },
  "kernelspec": {
   "display_name": "Python 3",
   "language": "python",
   "name": "python3"
  },
  "language_info": {
   "codemirror_mode": {
    "name": "ipython",
    "version": 3
   },
   "file_extension": ".py",
   "mimetype": "text/x-python",
   "name": "python",
   "nbconvert_exporter": "python",
   "pygments_lexer": "ipython3",
   "version": "3.6.8"
  }
 },
 "nbformat": 4,
 "nbformat_minor": 1
}

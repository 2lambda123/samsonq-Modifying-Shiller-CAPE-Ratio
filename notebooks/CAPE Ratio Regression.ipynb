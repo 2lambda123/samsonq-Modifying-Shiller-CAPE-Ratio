{
 "cells": [
  {
   "cell_type": "code",
   "execution_count": 2,
   "metadata": {},
   "outputs": [],
   "source": [
    "import os\n",
    "import sys\n",
    "import numpy as np\n",
    "import pandas as pd\n",
    "from matplotlib import pyplot as plt\n",
    "import seaborn as sns\n",
    "%matplotlib inline\n",
    "import statsmodels\n",
    "import statsmodels.api as sm\n",
    "\n",
    "import warnings\n",
    "warnings.filterwarnings(\"ignore\")"
   ]
  },
  {
   "cell_type": "code",
   "execution_count": null,
   "metadata": {},
   "outputs": [],
   "source": [
    "ie_data = pd.read_csv(\"../data/ie_data_tax.csv\", index_col=False)\n",
    "ie_data = ie_data[ie_data[\"Date\"]<2011.09]\n",
    "print(ie_data.columns)\n",
    "ie_data.head()"
   ]
  },
  {
   "cell_type": "code",
   "execution_count": null,
   "metadata": {},
   "outputs": [],
   "source": [
    "preprocess = lambda x: float(x.replace(\" \", \"\").replace(\",\", \"\")) if not isinstance(x, float) else x\n",
    "ie_data[\"CAPE\"] = ie_data[\"CAPE\"].apply(preprocess)\n",
    "ie_data[\"Real_Total_Return_Price\"] = ie_data[\"Real_Total_Return_Price\"].apply(preprocess)"
   ]
  },
  {
   "cell_type": "code",
   "execution_count": 3,
   "metadata": {},
   "outputs": [
    {
     "data": {
      "text/html": [
       "<div>\n",
       "<style scoped>\n",
       "    .dataframe tbody tr th:only-of-type {\n",
       "        vertical-align: middle;\n",
       "    }\n",
       "\n",
       "    .dataframe tbody tr th {\n",
       "        vertical-align: top;\n",
       "    }\n",
       "\n",
       "    .dataframe thead th {\n",
       "        text-align: right;\n",
       "    }\n",
       "</style>\n",
       "<table border=\"1\" class=\"dataframe\">\n",
       "  <thead>\n",
       "    <tr style=\"text-align: right;\">\n",
       "      <th></th>\n",
       "      <th>Date</th>\n",
       "      <th>CAPE</th>\n",
       "      <th>Excess_CAPE_Yield</th>\n",
       "      <th>Real_Returns_Equity</th>\n",
       "      <th>Real_Returns_Bond</th>\n",
       "      <th>Excess_Real_Returns_Equity</th>\n",
       "    </tr>\n",
       "  </thead>\n",
       "  <tbody>\n",
       "    <tr>\n",
       "      <th>120</th>\n",
       "      <td>1881.01</td>\n",
       "      <td>18.473952</td>\n",
       "      <td>-0.010489</td>\n",
       "      <td>0.045353</td>\n",
       "      <td>0.056468</td>\n",
       "      <td>-0.011115</td>\n",
       "    </tr>\n",
       "    <tr>\n",
       "      <th>121</th>\n",
       "      <td>1881.02</td>\n",
       "      <td>18.147258</td>\n",
       "      <td>-0.011393</td>\n",
       "      <td>0.046774</td>\n",
       "      <td>0.056199</td>\n",
       "      <td>-0.009425</td>\n",
       "    </tr>\n",
       "    <tr>\n",
       "      <th>122</th>\n",
       "      <td>1881.03</td>\n",
       "      <td>18.270119</td>\n",
       "      <td>-0.013123</td>\n",
       "      <td>0.042423</td>\n",
       "      <td>0.054885</td>\n",
       "      <td>-0.012462</td>\n",
       "    </tr>\n",
       "    <tr>\n",
       "      <th>123</th>\n",
       "      <td>1881.04</td>\n",
       "      <td>17.950108</td>\n",
       "      <td>-0.007504</td>\n",
       "      <td>0.045971</td>\n",
       "      <td>0.054635</td>\n",
       "      <td>-0.008665</td>\n",
       "    </tr>\n",
       "    <tr>\n",
       "      <th>124</th>\n",
       "      <td>1881.05</td>\n",
       "      <td>18.869719</td>\n",
       "      <td>-0.008881</td>\n",
       "      <td>0.041157</td>\n",
       "      <td>0.054786</td>\n",
       "      <td>-0.013628</td>\n",
       "    </tr>\n",
       "  </tbody>\n",
       "</table>\n",
       "</div>"
      ],
      "text/plain": [
       "        Date       CAPE  Excess_CAPE_Yield  Real_Returns_Equity  \\\n",
       "120  1881.01  18.473952          -0.010489             0.045353   \n",
       "121  1881.02  18.147258          -0.011393             0.046774   \n",
       "122  1881.03  18.270119          -0.013123             0.042423   \n",
       "123  1881.04  17.950108          -0.007504             0.045971   \n",
       "124  1881.05  18.869719          -0.008881             0.041157   \n",
       "\n",
       "     Real_Returns_Bond  Excess_Real_Returns_Equity  \n",
       "120           0.056468                   -0.011115  \n",
       "121           0.056199                   -0.009425  \n",
       "122           0.054885                   -0.012462  \n",
       "123           0.054635                   -0.008665  \n",
       "124           0.054786                   -0.013628  "
      ]
     },
     "execution_count": 3,
     "metadata": {},
     "output_type": "execute_result"
    }
   ],
   "source": [
    "ie_data = pd.read_excel(\"../data/ie_data.xls\", sheet_name=\"Data\", skiprows=7)\n",
    "ie_data = ie_data[[\"Date\", \"CAPE\", \"Yield\", \"Real Return\", \"Real Return.1\", \"Returns.2\"]].copy()\n",
    "ie_data.rename(columns={\"Yield\": \"Excess_CAPE_Yield\", \"Real Return\": \"Real_Returns_Equity\", \"Real Return.1\": \"Real_Returns_Bond\", \"Returns.2\": \"Excess_Real_Returns_Equity\"}, inplace=True)\n",
    "# Drop NAs, sample period: 1881.01-2011.08\n",
    "ie_data = ie_data.dropna()\n",
    "ie_data.head()"
   ]
  },
  {
   "cell_type": "code",
   "execution_count": null,
   "metadata": {},
   "outputs": [],
   "source": []
  },
  {
   "cell_type": "code",
   "execution_count": null,
   "metadata": {},
   "outputs": [],
   "source": [
    "x = 1/(np.array(ie_data[(ie_data[\"Date\"]<=2006)][\"CAPE\"]).astype(float))\n",
    "x = sm.add_constant(x)\n",
    "y = np.array(ie_data[(ie_data[\"Date\"]<=2006)][\"Real_Returns_Equity\"]).astype(float)\n",
    "\n",
    "model = sm.OLS(y, x, missing=\"drop\")\n",
    "summary = model.fit()\n",
    "summary.summary()"
   ]
  },
  {
   "cell_type": "code",
   "execution_count": null,
   "metadata": {},
   "outputs": [],
   "source": [
    "def cape_regression(cape_values, time_period, data=ie_data):\n",
    "    x = np.array(cape_values)\n",
    "    x = sm.add_constant(x)\n",
    "    model = sm.OLS(np.array(data[\"Real_Total_Return_Price\"]), x, missing=\"drop\")\n",
    "    summary = model.fit()"
   ]
  },
  {
   "cell_type": "code",
   "execution_count": null,
   "metadata": {},
   "outputs": [],
   "source": []
  }
 ],
 "metadata": {
  "kernelspec": {
   "display_name": "Python 3",
   "language": "python",
   "name": "python3"
  },
  "language_info": {
   "codemirror_mode": {
    "name": "ipython",
    "version": 3
   },
   "file_extension": ".py",
   "mimetype": "text/x-python",
   "name": "python",
   "nbconvert_exporter": "python",
   "pygments_lexer": "ipython3",
   "version": "3.6.8"
  }
 },
 "nbformat": 4,
 "nbformat_minor": 2
}
